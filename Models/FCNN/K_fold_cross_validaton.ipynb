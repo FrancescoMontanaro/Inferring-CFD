{
 "cells": [
  {
   "cell_type": "code",
   "execution_count": null,
   "metadata": {},
   "outputs": [],
   "source": [
    "import numpy as np\n",
    "import tensorflow as tf\n",
    "from tensorflow import keras\n",
    "from sklearn.model_selection import KFold"
   ]
  },
  {
   "cell_type": "markdown",
   "metadata": {},
   "source": [
    "### Constants and hyperparameters"
   ]
  },
  {
   "cell_type": "code",
   "execution_count": null,
   "metadata": {},
   "outputs": [],
   "source": [
    "k = 5 # Number of k folds for cross validation\n",
    "batch_size = 24 # Batch size\n",
    "epochs = 500 # Number of training epochs\n",
    "split_percentage = 0.8 # Training and test set splitting percentage\n",
    "validation_split = 0.2 # Validation set percentage\n",
    "early_stopping_patience = 15 # Number of epochs of patience before triggering early stopping\n",
    "naca_numbers = ['maximum_camber', 'maximum_camber_position', 'maximum_thickness'] # NACA numbers to predict"
   ]
  },
  {
   "cell_type": "code",
   "execution_count": null,
   "metadata": {},
   "outputs": [],
   "source": [
    "# CHANGE ME\n",
    "dataset_path = \"../Dataset/Definitivo/NACA prediction/Arrival times/arrival_times.npz\" # Dataset path\n",
    "flow_quantity = \"distribution_statistics\" # Flow quantity to be used as feature"
   ]
  },
  {
   "cell_type": "markdown",
   "metadata": {},
   "source": [
    "### Data Loading"
   ]
  },
  {
   "cell_type": "code",
   "execution_count": null,
   "metadata": {},
   "outputs": [],
   "source": [
    "# Loading the data\n",
    "dataset = np.load(dataset_path)\n",
    "dataset = list(zip(dataset[flow_quantity], dataset[\"naca_numbers\"]))"
   ]
  },
  {
   "cell_type": "markdown",
   "metadata": {},
   "source": [
    "### Shuffling the dataset"
   ]
  },
  {
   "cell_type": "code",
   "execution_count": null,
   "metadata": {},
   "outputs": [],
   "source": [
    "# Shuffling the dataset\n",
    "np.random.shuffle(dataset)"
   ]
  },
  {
   "cell_type": "markdown",
   "metadata": {},
   "source": [
    "### Features and labels"
   ]
  },
  {
   "cell_type": "code",
   "execution_count": null,
   "metadata": {},
   "outputs": [],
   "source": [
    "# Extracting the features and the labels from the dataset\n",
    "X, Y = zip(*dataset)\n",
    "X, Y = np.array(X), np.array(Y)"
   ]
  },
  {
   "cell_type": "markdown",
   "metadata": {},
   "source": [
    "### Building the model"
   ]
  },
  {
   "cell_type": "code",
   "execution_count": null,
   "metadata": {},
   "outputs": [],
   "source": [
    "# BEST MODEL FOR THE 1D FEATURES\n",
    "def buildModel(input_shape):\n",
    "    # Sequential Model\n",
    "    model = keras.Sequential([\n",
    "        keras.layers.InputLayer(input_shape=input_shape),\n",
    "        keras.layers.Dense(30, activation=tf.nn.tanh),\n",
    "        keras.layers.Dense(20, activation=tf.nn.tanh),\n",
    "        keras.layers.Dense(10, activation=tf.nn.tanh),\n",
    "        keras.layers.Dense(len(naca_numbers))\n",
    "    ])\n",
    "\n",
    "    # Compiling the model\n",
    "    model.compile(loss='mse', optimizer='adam', metrics=['mae'])\n",
    "\n",
    "    return model"
   ]
  },
  {
   "cell_type": "markdown",
   "metadata": {},
   "source": [
    "### Metrics computation"
   ]
  },
  {
   "cell_type": "code",
   "execution_count": null,
   "metadata": {},
   "outputs": [],
   "source": [
    "# Function to compute the classification accuracy\n",
    "def classificationMetrics(predictions, labels):\n",
    "    # Creating an array to save the results\n",
    "    accuracy = np.zeros(len(naca_numbers))\n",
    "\n",
    "    for idx in range(len(naca_numbers)):\n",
    "        # Converting the NACA values to the closest interger\n",
    "        naca_predictions = np.array([round(prediction) for prediction in predictions[:,idx]])\n",
    "        naca_labels = np.array([round(label) for label in labels[:,idx]])\n",
    "\n",
    "        # Extracting the samples correctly classified\n",
    "        correctly_classified = np.where(np.equal(naca_predictions, naca_labels))\n",
    "\n",
    "        # Computing the classification accuracy of the current NACA number\n",
    "        accuracy[idx] = np.shape(correctly_classified)[1] / len(naca_labels)\n",
    "\n",
    "    return accuracy"
   ]
  },
  {
   "cell_type": "code",
   "execution_count": null,
   "metadata": {},
   "outputs": [],
   "source": [
    "def regressionMetrics(predictions, labels):\n",
    "    # Creating an array to save the results\n",
    "    mses, maes = np.zeros(len(naca_numbers)), np.zeros(len(naca_numbers))\n",
    "\n",
    "    # Computing the Mean absolute error\n",
    "    for idx in range(len(naca_numbers)):\n",
    "        # Computing the Mean Absolute Error of the current NACA number\n",
    "        mae = np.mean(np.absolute(predictions[:,idx] - labels[:,idx]))\n",
    "        mse = ((predictions[:,idx] - labels[:,idx])**2).mean(axis=0)\n",
    "\n",
    "        # Adding the result to the array\n",
    "        mses[idx], maes[idx] = mse, mae\n",
    "\n",
    "    return mses, maes"
   ]
  },
  {
   "cell_type": "markdown",
   "metadata": {},
   "source": [
    "### K fold cross validation"
   ]
  },
  {
   "cell_type": "code",
   "execution_count": null,
   "metadata": {},
   "outputs": [],
   "source": [
    "# Creating empty arrays to store the results\n",
    "mse, mae, accuracy = np.zeros([k, len(naca_numbers)]), np.zeros([k, len(naca_numbers)]), np.zeros([k, len(naca_numbers)])"
   ]
  },
  {
   "cell_type": "code",
   "execution_count": null,
   "metadata": {},
   "outputs": [],
   "source": [
    "# Iterating over the number of experiments (folds)\n",
    "experiment = 0\n",
    "for train_index, test_index in KFold(k).split(X):\n",
    "    # Training and test set\n",
    "    X_train, X_test = X[train_index], X[test_index]\n",
    "    Y_train, Y_test = Y[train_index], Y[test_index]\n",
    "\n",
    "    # Normalizing the data\n",
    "    mean = X_train.mean(axis=0)\n",
    "    std = X_train.std(axis=0)\n",
    "\n",
    "    # Normalizing the training and test features w.r.t. the training statistics\n",
    "    normalized__X_train = (X_train - mean) / std\n",
    "    normalized__X_test = (X_test - mean) / std\n",
    "\n",
    "    # Building the model\n",
    "    model = buildModel(input_shape=np.shape(normalized__X_train)[1:])\n",
    "\n",
    "    # Early stopping with a predefined patience\n",
    "    early_stopping = keras.callbacks.EarlyStopping(\n",
    "        monitor='val_loss', \n",
    "        patience=early_stopping_patience,\n",
    "        restore_best_weights=True,\n",
    "        verbose=False\n",
    "    )\n",
    "\n",
    "    # Training the model\n",
    "    history = model.fit(\n",
    "        normalized__X_train, \n",
    "        Y_train,\n",
    "        epochs=epochs,\n",
    "        batch_size=batch_size,\n",
    "        validation_split=validation_split,\n",
    "        shuffle=True,\n",
    "        verbose=0,\n",
    "        callbacks=[early_stopping]\n",
    "    )\n",
    "    \n",
    "    # Computing the predictions of the test set\n",
    "    predictions = model.predict(normalized__X_test)\n",
    "\n",
    "    # Computing the regression Mean Absolute Error\n",
    "    experiment_mse, experiment_mae = regressionMetrics(predictions, Y_test)\n",
    "    \n",
    "    # Computing the classification accuracy\n",
    "    experiment_accuracy = classificationMetrics(predictions, Y_test)\n",
    "    \n",
    "    # Adding the metrics to the results lists\n",
    "    mse[experiment, :] = experiment_mse\n",
    "    mae[experiment, :] = experiment_mae\n",
    "    accuracy[experiment, :] = experiment_accuracy\n",
    "\n",
    "    # Displaying status\n",
    "    print(f'Experiment {experiment+1}/{k} | Number of train samples: {len(X_train)} | Number of test samples: {len(X_test)} | Regression MSE: {np.mean(experiment_mse)} | Regression MAE: {np.mean(experiment_mae)} | Classification Accuracy: {np.mean(experiment_accuracy)}')\n",
    "    experiment += 1"
   ]
  },
  {
   "cell_type": "markdown",
   "metadata": {},
   "source": [
    "### Results"
   ]
  },
  {
   "cell_type": "code",
   "execution_count": null,
   "metadata": {},
   "outputs": [],
   "source": [
    "# Displaying results\n",
    "print(f\"Mean Square Error (Loss) --> {np.mean(mse.flatten())}\")\n",
    "for i in range(len(naca_numbers)):\n",
    "    print(f\"  • {naca_numbers[i]}: {np.mean(mse[:,i])}\")\n",
    "\n",
    "print(f\"\\nMean Absolute Error --> {np.mean(mae.flatten())}\")\n",
    "for i in range(len(naca_numbers)):\n",
    "    print(f\"  • {naca_numbers[i]}: {np.mean(mae[:,i])}\")\n",
    "\n",
    "print(f\"\\nClassification Accuracy --> {np.mean(accuracy.flatten())}\")\n",
    "for i in range(len(naca_numbers)):\n",
    "    print(f\"  • {naca_numbers[i]}: {np.mean(accuracy[:,i])}\")"
   ]
  }
 ],
 "metadata": {
  "interpreter": {
   "hash": "4bd624a0593993fe43ac4046b27b898fb2ef75c21c08f81e89e64ea0f51df676"
  },
  "kernelspec": {
   "display_name": "Python 3.9.12 ('tensorflow')",
   "language": "python",
   "name": "python3"
  },
  "language_info": {
   "codemirror_mode": {
    "name": "ipython",
    "version": 3
   },
   "file_extension": ".py",
   "mimetype": "text/x-python",
   "name": "python",
   "nbconvert_exporter": "python",
   "pygments_lexer": "ipython3",
   "version": "3.9.13"
  },
  "orig_nbformat": 4
 },
 "nbformat": 4,
 "nbformat_minor": 2
}
