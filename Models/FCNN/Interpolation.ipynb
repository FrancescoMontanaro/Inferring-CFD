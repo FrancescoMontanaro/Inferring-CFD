{
 "cells": [
  {
   "cell_type": "code",
   "execution_count": null,
   "metadata": {},
   "outputs": [],
   "source": [
    "import random\n",
    "import numpy as np\n",
    "import tensorflow as tf\n",
    "from tensorflow import keras\n",
    "import matplotlib.pyplot as plt\n",
    "from sklearn.model_selection import KFold"
   ]
  },
  {
   "cell_type": "markdown",
   "metadata": {},
   "source": [
    "### Constants and hyperparameters"
   ]
  },
  {
   "cell_type": "code",
   "execution_count": null,
   "metadata": {},
   "outputs": [],
   "source": [
    "k = 5 # Number of k folds for cross validation\n",
    "batch_size = 24 # Batch size\n",
    "step_size = 101 # Increment of samples per experiment\n",
    "epochs = 500 # Number of training epochs\n",
    "split_percentage = 0.8 # Training and test set splitting percentage\n",
    "validation_split = 0.2 # Validation set percentage\n",
    "early_stopping_patience = 15 # Number of epochs of patience before triggering early stopping\n",
    "naca_numbers = ['maximum_camber', 'maximum_camber_position', 'maximum_thickness'] # NACA numbers to predict"
   ]
  },
  {
   "cell_type": "code",
   "execution_count": null,
   "metadata": {},
   "outputs": [],
   "source": [
    "# CHANGE ME\n",
    "dataset_path = \"../Dataset/Regional averages/regional_averages_2.npz\" # Dataset path\n",
    "section_indices = [1] # Indices of the sections to extract\n",
    "flow_quantity = \"p\" # Flow quantity to be used as feature"
   ]
  },
  {
   "cell_type": "markdown",
   "metadata": {},
   "source": [
    "### Data loading"
   ]
  },
  {
   "cell_type": "code",
   "execution_count": null,
   "metadata": {},
   "outputs": [],
   "source": [
    "# Loading the data\n",
    "dataset = np.load(dataset_path)\n",
    "dataset = list(zip(dataset[flow_quantity], dataset[\"naca_numbers\"]))"
   ]
  },
  {
   "cell_type": "markdown",
   "metadata": {},
   "source": [
    "### Shuffling the dataset"
   ]
  },
  {
   "cell_type": "code",
   "execution_count": null,
   "metadata": {},
   "outputs": [],
   "source": [
    "# Shuffling the dataset\n",
    "np.random.shuffle(dataset)"
   ]
  },
  {
   "cell_type": "markdown",
   "metadata": {},
   "source": [
    "### Building the model"
   ]
  },
  {
   "cell_type": "code",
   "execution_count": null,
   "metadata": {},
   "outputs": [],
   "source": [
    "# BEST MODEL FOR THE 1D FEATURES\n",
    "def buildModel(input_shape):\n",
    "  # Sequential Model\n",
    "  model = keras.Sequential([\n",
    "    keras.layers.InputLayer(input_shape=input_shape),\n",
    "    keras.layers.Dense(30, activation=tf.nn.tanh),\n",
    "    keras.layers.Dense(20, activation=tf.nn.tanh),\n",
    "    keras.layers.Dense(10, activation=tf.nn.tanh),\n",
    "    keras.layers.Dense(len(naca_numbers))\n",
    "  ])\n",
    "\n",
    "  # Compiling the model\n",
    "  model.compile(loss='mse', optimizer='adam', metrics=['mae'])\n",
    "\n",
    "  return model"
   ]
  },
  {
   "cell_type": "markdown",
   "metadata": {},
   "source": [
    "### Metrics computation"
   ]
  },
  {
   "cell_type": "code",
   "execution_count": null,
   "metadata": {},
   "outputs": [],
   "source": [
    "# Function to compute the classification accuracy\n",
    "def classificationMetrics(predictions, labels):\n",
    "    # Creating an array to save the results\n",
    "    accuracy = np.zeros(len(naca_numbers))\n",
    "\n",
    "    for idx in range(len(naca_numbers)):\n",
    "        # Converting the NACA values to the closest interger\n",
    "        naca_predictions = np.array([round(prediction) for prediction in predictions[:,idx]])\n",
    "        naca_labels = np.array([round(label) for label in labels[:,idx]])\n",
    "\n",
    "        # Extracting the samples correctly classified\n",
    "        correctly_classified = np.where(np.equal(naca_predictions, naca_labels))\n",
    "\n",
    "        # Computing the classification accuracy of the current NACA number\n",
    "        accuracy[idx] = np.shape(correctly_classified)[1] / len(naca_labels)\n",
    "\n",
    "    return accuracy"
   ]
  },
  {
   "cell_type": "code",
   "execution_count": null,
   "metadata": {},
   "outputs": [],
   "source": [
    "# Function to compute the regression MSE and MAE\n",
    "def regressionMetrics(predictions, labels):\n",
    "    # Creating an array to save the results\n",
    "    mses, maes = np.zeros(len(naca_numbers)), np.zeros(len(naca_numbers))\n",
    "\n",
    "    # Computing the Mean absolute error\n",
    "    for idx in range(len(naca_numbers)):\n",
    "        # Computing the Mean Absolute Error of the current NACA number\n",
    "        mae = np.mean(np.absolute(predictions[:,idx] - labels[:,idx]))\n",
    "        mse = ((predictions[:,idx] - labels[:,idx])**2).mean(axis=0)\n",
    "\n",
    "        # Adding the result to the array\n",
    "        mses[idx], maes[idx] = mse, mae\n",
    "\n",
    "    return mses, maes"
   ]
  },
  {
   "cell_type": "markdown",
   "metadata": {},
   "source": [
    "### Experiments"
   ]
  },
  {
   "cell_type": "code",
   "execution_count": null,
   "metadata": {},
   "outputs": [],
   "source": [
    "dataset_size = len(dataset) # Total number of samples available\n",
    "num_experiments = int(np.ceil(dataset_size / step_size)) # Total number of experiments"
   ]
  },
  {
   "cell_type": "code",
   "execution_count": null,
   "metadata": {},
   "outputs": [],
   "source": [
    "# Creating empty arrays to store the experiments' results\n",
    "mses, maes, accuracies = np.zeros([num_experiments,2]), np.zeros([num_experiments,2]), np.zeros([num_experiments,2])"
   ]
  },
  {
   "cell_type": "code",
   "execution_count": null,
   "metadata": {},
   "outputs": [],
   "source": [
    "# Iterating over the number of the experiments\n",
    "for idx in range(num_experiments):\n",
    "  # Extracting the numer of samples to use for the i-th experiment\n",
    "  num_samples = ((idx + 1) * step_size) \n",
    "  num_samples = num_samples if num_samples < dataset_size else dataset_size\n",
    "\n",
    "  # Displating status\n",
    "  print(f'Experiment {idx+1}/{num_experiments} started | Number of samples: {num_samples}')\n",
    "\n",
    "  # Extracting the samples to be used in the experiment\n",
    "  experiment_dataset = random.sample(dataset, num_samples)\n",
    "\n",
    "  # Extracting the features and the labels from the dataset\n",
    "  X, Y = zip(*experiment_dataset)\n",
    "  X, Y = np.array(X), np.array(Y)\n",
    "\n",
    "  # Extacting a single X section from the dataset\n",
    "  section_X = X[:, :, section_indices] if len(section_indices) > 0 else X\n",
    "  section_X = section_X[:,:,0] if len(section_indices) > 0 else section_X\n",
    "\n",
    "  # Creating empty arrays to store the folds' results\n",
    "  fold_mses, fold_maes, fold_accuracies = np.zeros([k, len(naca_numbers)]), np.zeros([k, len(naca_numbers)]), np.zeros([k, len(naca_numbers)])\n",
    "\n",
    "  # Iterating over the folds\n",
    "  fold = 0\n",
    "  for train_index, test_index in KFold(k).split(experiment_dataset):\n",
    "    # Training and test set\n",
    "    X_train, X_test = section_X[train_index], section_X[test_index]\n",
    "    Y_train, Y_test = Y[train_index], Y[test_index]\n",
    "\n",
    "    # Normalizing the data\n",
    "    mean = X_train.mean(axis=0)\n",
    "    std = X_train.std(axis=0)\n",
    "\n",
    "    # Normalizing the training and test features w.r.t. the training statistics\n",
    "    normalized__X_train = (X_train - mean) / std\n",
    "    normalized__X_test = (X_test - mean) / std\n",
    "\n",
    "    # Building the model\n",
    "    model = buildModel(input_shape=np.shape(normalized__X_train)[1:])\n",
    "\n",
    "    # Early stopping with a predefined patience\n",
    "    early_stopping = keras.callbacks.EarlyStopping(\n",
    "        monitor='val_loss', \n",
    "        patience=early_stopping_patience,\n",
    "        restore_best_weights=True,\n",
    "        verbose=False\n",
    "    )\n",
    "\n",
    "    # Training the model\n",
    "    history = model.fit(\n",
    "        normalized__X_train, \n",
    "        Y_train,\n",
    "        epochs=epochs,\n",
    "        batch_size=batch_size,\n",
    "        validation_split=validation_split,\n",
    "        shuffle=True,\n",
    "        verbose=0,\n",
    "        callbacks=[early_stopping]\n",
    "    )\n",
    "\n",
    "    # Computing the predictions of the test set\n",
    "    predictions = model.predict(normalized__X_test)\n",
    "\n",
    "    # Computing the regression Mean Absolute Error\n",
    "    fold_mse, fold_mae = regressionMetrics(predictions, Y_test)\n",
    "    \n",
    "    # Computing the classification accuracy\n",
    "    fold_accuracy = classificationMetrics(predictions, Y_test)\n",
    "    \n",
    "    # Adding the metrics to the results lists\n",
    "    fold_mses[fold, :] = fold_mse\n",
    "    fold_maes[fold, :] = fold_mae\n",
    "    fold_accuracies[fold, :] = fold_accuracy\n",
    "\n",
    "    # Displaying status\n",
    "    print(f'    • Fold {fold+1}/{k} completed --> Train - Test: [{len(X_train)} - {len(X_test)}] | MSE: {np.mean(fold_mse)} | MAE: {np.mean(fold_mae)} | Accuracy: {np.mean(fold_accuracy)}')\n",
    "    \n",
    "    fold += 1 # Incrementing the folds counter\n",
    "\n",
    "  # Computing the experiments metrics by averaging the results obtained by each fold\n",
    "  experiment_mse = fold_mses.mean(axis = 0)\n",
    "  experiment_mae = fold_maes.mean(axis = 0)\n",
    "  experiment_accuracy = fold_accuracies.mean(axis = 0)\n",
    "\n",
    "  # Adding the metrics to the results lists\n",
    "  mses[idx, :] = [int(num_samples), np.mean(experiment_mse)]\n",
    "  maes[idx, :] = [int(num_samples), np.mean(experiment_mae)]\n",
    "  accuracies[idx, :] = [num_samples, np.mean(experiment_accuracy)]\n",
    "\n",
    "  # Displaying status\n",
    "  print(f'Experiment {idx + 1}/{num_experiments} completed | Regression MSE: {mses[idx, 1]} | Regression MAE: {maes[idx, 1]} | Classification Accuracy: {accuracies[idx, 1]}\\n')"
   ]
  },
  {
   "cell_type": "markdown",
   "metadata": {},
   "source": [
    "### Results"
   ]
  },
  {
   "cell_type": "code",
   "execution_count": null,
   "metadata": {},
   "outputs": [],
   "source": [
    "# Printing results\n",
    "for idx in range(num_experiments):\n",
    "    print(f'{int(mses[idx,0])};{mses[idx,1]};{maes[idx,1]};{accuracies[idx,1]}')"
   ]
  },
  {
   "cell_type": "code",
   "execution_count": null,
   "metadata": {},
   "outputs": [],
   "source": [
    "# Function to compute the moving average of the and array\n",
    "def movingAverage(data, window):\n",
    "    moving_average = np.convolve(data, np.ones(window), 'valid') / window\n",
    "    return moving_average"
   ]
  },
  {
   "cell_type": "code",
   "execution_count": null,
   "metadata": {},
   "outputs": [],
   "source": [
    "# Function to plot the results\n",
    "def plot_results(data, y_label):\n",
    "    x = data[:,0]\n",
    "    y = data[:,1]\n",
    "\n",
    "    # Computing the moving average of the obtained results\n",
    "    window = 3\n",
    "    moving_average = movingAverage(y, window)\n",
    "\n",
    "    # Plotting the results\n",
    "    plt.plot(x[(window-1):], moving_average, color=\"red\")\n",
    "    plt.scatter(x, y, color=\"blue\")\n",
    "\n",
    "    plt.legend([f'Moving Average {window}'], loc='upper right')\n",
    "    plt.xlabel(\"Training set size\")\n",
    "    plt.ylabel(y_label)\n",
    "    plt.grid()\n",
    "\n",
    "    plt.show()"
   ]
  },
  {
   "cell_type": "code",
   "execution_count": null,
   "metadata": {},
   "outputs": [],
   "source": [
    "plot_results(mses, \"Regression - Mean Square Error\")\n",
    "plot_results(maes, \"Regression - Mean Absolute Error\")\n",
    "plot_results(accuracies, \"Classification - Accuracy\")"
   ]
  }
 ],
 "metadata": {
  "interpreter": {
   "hash": "4bd624a0593993fe43ac4046b27b898fb2ef75c21c08f81e89e64ea0f51df676"
  },
  "kernelspec": {
   "display_name": "Python 3.9.12",
   "language": "python",
   "name": "python3"
  },
  "language_info": {
   "codemirror_mode": {
    "name": "ipython",
    "version": 3
   },
   "file_extension": ".py",
   "mimetype": "text/x-python",
   "name": "python",
   "nbconvert_exporter": "python",
   "pygments_lexer": "ipython3",
   "version": "3.9.13"
  },
  "orig_nbformat": 4
 },
 "nbformat": 4,
 "nbformat_minor": 2
}
