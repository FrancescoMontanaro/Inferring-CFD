{
 "cells": [
  {
   "cell_type": "code",
   "execution_count": 38,
   "id": "e8332b50",
   "metadata": {},
   "outputs": [],
   "source": [
    "import json\n",
    "import random\n",
    "import numpy as np\n",
    "import tensorflow as tf\n",
    "from tensorflow import keras\n",
    "import matplotlib.pyplot as plt"
   ]
  },
  {
   "cell_type": "markdown",
   "id": "4c0974dd",
   "metadata": {},
   "source": [
    "### Data Loading"
   ]
  },
  {
   "cell_type": "code",
   "execution_count": 39,
   "id": "b2dad1b6",
   "metadata": {},
   "outputs": [],
   "source": [
    "dataset_path = \"../Dataset/Regional arrival times/regional_arrival_times_1.json\""
   ]
  },
  {
   "cell_type": "code",
   "execution_count": 40,
   "id": "0b1f7a69",
   "metadata": {},
   "outputs": [],
   "source": [
    "feature_name = \"arrival_times\"\n",
    "naca_numbers = ['maximum_camber', 'maximum_camber_position', 'maximum_thickness']\n",
    "\n",
    "dataset = []\n",
    "with open(dataset_path, 'r') as dataset_file:\n",
    "  samples = json.load(dataset_file)\n",
    "  for sample in samples:\n",
    "    dataset.append({\n",
    "        \"features\": sample[\"features\"][feature_name],\n",
    "        \"labels\": list(sample[\"naca_numbers\"].values())\n",
    "    })"
   ]
  },
  {
   "cell_type": "markdown",
   "id": "273ecb6e",
   "metadata": {},
   "source": [
    "### Shuffling the dataset"
   ]
  },
  {
   "cell_type": "code",
   "execution_count": 41,
   "id": "a93213a6",
   "metadata": {},
   "outputs": [],
   "source": [
    "# Shuffling the dataset\n",
    "np.random.shuffle(dataset)"
   ]
  },
  {
   "cell_type": "markdown",
   "id": "211e941d",
   "metadata": {},
   "source": [
    "### Training and test set"
   ]
  },
  {
   "cell_type": "code",
   "execution_count": 42,
   "id": "36ead732",
   "metadata": {},
   "outputs": [],
   "source": [
    "# Defining the training and test set splitting percentage\n",
    "split_percentage = 0.8\n",
    "\n",
    "# Computing the number of training samples according to the splitting percentage\n",
    "num_training_samples = int(np.floor(split_percentage * len(dataset)))\n",
    "\n",
    "# Extracting the training and test set\n",
    "training_set, test_set = dataset[:num_training_samples], dataset[num_training_samples:]"
   ]
  },
  {
   "cell_type": "code",
   "execution_count": 43,
   "id": "3240bc10",
   "metadata": {},
   "outputs": [],
   "source": [
    "# Extracting the training features and labels\n",
    "train_features = np.array([sample[\"features\"] for sample in training_set])\n",
    "train_labels = np.array([sample[\"labels\"] for sample in training_set])\n",
    "\n",
    "# Extracting the test features and labels\n",
    "test_features = np.array([sample[\"features\"] for sample in test_set])\n",
    "test_labels = np.array([sample[\"labels\"] for sample in test_set])"
   ]
  },
  {
   "cell_type": "markdown",
   "id": "aa3d844d",
   "metadata": {},
   "source": [
    "### Data normalization"
   ]
  },
  {
   "cell_type": "code",
   "execution_count": 44,
   "id": "a389c483",
   "metadata": {},
   "outputs": [],
   "source": [
    "# Computing the mean and standard deviation of the training features\n",
    "mean = train_features.mean(axis=0)\n",
    "std = train_features.std(axis=0)"
   ]
  },
  {
   "cell_type": "code",
   "execution_count": 45,
   "id": "d2dd9b11",
   "metadata": {},
   "outputs": [],
   "source": [
    "# Normalizing the training and test features w.r.t. the training statistics\n",
    "normalized_train_features = (train_features - mean) / std\n",
    "normalized_test_features = (test_features - mean) / std"
   ]
  },
  {
   "cell_type": "code",
   "execution_count": 57,
   "id": "15721cc5",
   "metadata": {},
   "outputs": [
    {
     "data": {
      "image/png": "[encoded data removed]",
      "text/plain": [
       "<Figure size 432x288 with 1 Axes>"
      ]
     },
     "metadata": {
      "needs_background": "light"
     },
     "output_type": "display_data"
    }
   ],
   "source": [
    "# Plotting a random sample\n",
    "plt.plot(normalized_train_features[random.choice([0, len(normalized_train_features)-1])])\n",
    "plt.show()"
   ]
  },
  {
   "cell_type": "markdown",
   "id": "586bfdc1",
   "metadata": {},
   "source": [
    "### Building the model"
   ]
  },
  {
   "cell_type": "code",
   "execution_count": 47,
   "id": "31aca39f",
   "metadata": {},
   "outputs": [],
   "source": [
    "def buildModel():\n",
    "  # Sequential Model\n",
    "  model = keras.Sequential([\n",
    "      keras.layers.Dense(64, activation=tf.nn.relu, input_shape=[np.shape(normalized_train_features)[1]]),\n",
    "      keras.layers.Dropout(0.05),\n",
    "      keras.layers.Dense(32, activation=tf.nn.relu),\n",
    "      keras.layers.Dropout(0.05),\n",
    "      keras.layers.Dense(16, activation=tf.nn.relu),\n",
    "      keras.layers.Dense(len(naca_numbers))\n",
    "  ])\n",
    "\n",
    "  # Compiling the model\n",
    "  model.compile(loss='mse', optimizer='adam', metrics=['mae'])\n",
    "  \n",
    "  return model"
   ]
  },
  {
   "cell_type": "code",
   "execution_count": 48,
   "id": "555ba021",
   "metadata": {},
   "outputs": [
    {
     "name": "stdout",
     "output_type": "stream",
     "text": [
      "Model: \"sequential_2\"\n",
      "_________________________________________________________________\n",
      "Layer (type)                 Output Shape              Param #   \n",
      "=================================================================\n",
      "dense_8 (Dense)              (None, 64)                1600      \n",
      "_________________________________________________________________\n",
      "dropout_4 (Dropout)          (None, 64)                0         \n",
      "_________________________________________________________________\n",
      "dense_9 (Dense)              (None, 32)                2080      \n",
      "_________________________________________________________________\n",
      "dropout_5 (Dropout)          (None, 32)                0         \n",
      "_________________________________________________________________\n",
      "dense_10 (Dense)             (None, 16)                528       \n",
      "_________________________________________________________________\n",
      "dense_11 (Dense)             (None, 3)                 51        \n",
      "=================================================================\n",
      "Total params: 4,259\n",
      "Trainable params: 4,259\n",
      "Non-trainable params: 0\n",
      "_________________________________________________________________\n"
     ]
    }
   ],
   "source": [
    "model = buildModel()\n",
    "model.summary()"
   ]
  },
  {
   "cell_type": "markdown",
   "id": "f169cb56",
   "metadata": {},
   "source": [
    "### Model training"
   ]
  },
  {
   "cell_type": "code",
   "execution_count": 49,
   "id": "c51a7905",
   "metadata": {},
   "outputs": [
    {
     "name": "stdout",
     "output_type": "stream",
     "text": [
      "Epoch 1/200\n",
      "52/52 - 1s - loss: 0.0808 - mae: 0.1970 - val_loss: 0.0277 - val_mae: 0.1092\n",
      "Epoch 2/200\n",
      "52/52 - 0s - loss: 0.0277 - mae: 0.1196 - val_loss: 0.0177 - val_mae: 0.0866\n",
      "Epoch 3/200\n",
      "52/52 - 0s - loss: 0.0197 - mae: 0.0964 - val_loss: 0.0153 - val_mae: 0.0773\n",
      "Epoch 4/200\n",
      "52/52 - 0s - loss: 0.0175 - mae: 0.0879 - val_loss: 0.0148 - val_mae: 0.0730\n",
      "Epoch 5/200\n",
      "52/52 - 0s - loss: 0.0152 - mae: 0.0803 - val_loss: 0.0124 - val_mae: 0.0662\n",
      "Epoch 6/200\n",
      "52/52 - 0s - loss: 0.0136 - mae: 0.0750 - val_loss: 0.0109 - val_mae: 0.0630\n",
      "Epoch 7/200\n",
      "52/52 - 0s - loss: 0.0122 - mae: 0.0715 - val_loss: 0.0094 - val_mae: 0.0561\n",
      "Epoch 8/200\n",
      "52/52 - 0s - loss: 0.0115 - mae: 0.0677 - val_loss: 0.0091 - val_mae: 0.0572\n",
      "Epoch 9/200\n",
      "52/52 - 0s - loss: 0.0104 - mae: 0.0643 - val_loss: 0.0081 - val_mae: 0.0529\n",
      "Epoch 10/200\n",
      "52/52 - 0s - loss: 0.0092 - mae: 0.0606 - val_loss: 0.0071 - val_mae: 0.0511\n",
      "Epoch 11/200\n",
      "52/52 - 0s - loss: 0.0085 - mae: 0.0580 - val_loss: 0.0075 - val_mae: 0.0500\n",
      "Epoch 12/200\n",
      "52/52 - 0s - loss: 0.0076 - mae: 0.0534 - val_loss: 0.0055 - val_mae: 0.0432\n",
      "Epoch 13/200\n",
      "52/52 - 0s - loss: 0.0070 - mae: 0.0518 - val_loss: 0.0068 - val_mae: 0.0481\n",
      "Epoch 14/200\n",
      "52/52 - 0s - loss: 0.0068 - mae: 0.0502 - val_loss: 0.0058 - val_mae: 0.0434\n",
      "Epoch 15/200\n",
      "52/52 - 0s - loss: 0.0059 - mae: 0.0467 - val_loss: 0.0047 - val_mae: 0.0380\n",
      "Epoch 16/200\n",
      "52/52 - 0s - loss: 0.0052 - mae: 0.0440 - val_loss: 0.0048 - val_mae: 0.0399\n",
      "Epoch 17/200\n",
      "52/52 - 0s - loss: 0.0051 - mae: 0.0434 - val_loss: 0.0034 - val_mae: 0.0350\n",
      "Epoch 18/200\n",
      "52/52 - 0s - loss: 0.0046 - mae: 0.0415 - val_loss: 0.0045 - val_mae: 0.0386\n",
      "Epoch 19/200\n",
      "52/52 - 0s - loss: 0.0044 - mae: 0.0403 - val_loss: 0.0035 - val_mae: 0.0349\n",
      "Epoch 20/200\n",
      "52/52 - 0s - loss: 0.0042 - mae: 0.0397 - val_loss: 0.0035 - val_mae: 0.0347\n",
      "Epoch 21/200\n",
      "52/52 - 0s - loss: 0.0039 - mae: 0.0380 - val_loss: 0.0038 - val_mae: 0.0358\n",
      "Epoch 22/200\n",
      "52/52 - 0s - loss: 0.0035 - mae: 0.0356 - val_loss: 0.0030 - val_mae: 0.0326\n",
      "Epoch 23/200\n",
      "52/52 - 0s - loss: 0.0035 - mae: 0.0356 - val_loss: 0.0037 - val_mae: 0.0346\n",
      "Epoch 24/200\n",
      "52/52 - 0s - loss: 0.0036 - mae: 0.0357 - val_loss: 0.0033 - val_mae: 0.0331\n",
      "Epoch 25/200\n",
      "52/52 - 0s - loss: 0.0033 - mae: 0.0346 - val_loss: 0.0027 - val_mae: 0.0306\n",
      "Epoch 26/200\n",
      "52/52 - 0s - loss: 0.0033 - mae: 0.0342 - val_loss: 0.0034 - val_mae: 0.0341\n",
      "Epoch 27/200\n",
      "52/52 - 0s - loss: 0.0036 - mae: 0.0348 - val_loss: 0.0036 - val_mae: 0.0341\n",
      "Epoch 28/200\n",
      "52/52 - 0s - loss: 0.0030 - mae: 0.0329 - val_loss: 0.0042 - val_mae: 0.0370\n",
      "Epoch 29/200\n",
      "52/52 - 0s - loss: 0.0030 - mae: 0.0331 - val_loss: 0.0031 - val_mae: 0.0306\n",
      "Epoch 30/200\n",
      "52/52 - 0s - loss: 0.0030 - mae: 0.0326 - val_loss: 0.0033 - val_mae: 0.0325\n",
      "Epoch 31/200\n",
      "52/52 - 0s - loss: 0.0028 - mae: 0.0320 - val_loss: 0.0024 - val_mae: 0.0287\n",
      "Epoch 32/200\n",
      "52/52 - 0s - loss: 0.0029 - mae: 0.0324 - val_loss: 0.0031 - val_mae: 0.0326\n",
      "Epoch 33/200\n",
      "52/52 - 0s - loss: 0.0029 - mae: 0.0323 - val_loss: 0.0030 - val_mae: 0.0304\n",
      "Epoch 34/200\n",
      "52/52 - 0s - loss: 0.0027 - mae: 0.0307 - val_loss: 0.0027 - val_mae: 0.0300\n",
      "Epoch 35/200\n",
      "52/52 - 0s - loss: 0.0023 - mae: 0.0288 - val_loss: 0.0024 - val_mae: 0.0270\n",
      "Epoch 36/200\n",
      "52/52 - 0s - loss: 0.0026 - mae: 0.0298 - val_loss: 0.0027 - val_mae: 0.0300\n",
      "Epoch 37/200\n",
      "52/52 - 0s - loss: 0.0025 - mae: 0.0296 - val_loss: 0.0025 - val_mae: 0.0291\n",
      "Epoch 38/200\n",
      "52/52 - 0s - loss: 0.0027 - mae: 0.0307 - val_loss: 0.0037 - val_mae: 0.0331\n",
      "Epoch 39/200\n",
      "52/52 - 0s - loss: 0.0039 - mae: 0.0345 - val_loss: 0.0030 - val_mae: 0.0311\n",
      "Epoch 40/200\n",
      "52/52 - 0s - loss: 0.0027 - mae: 0.0297 - val_loss: 0.0038 - val_mae: 0.0345\n",
      "Epoch 41/200\n",
      "52/52 - 0s - loss: 0.0025 - mae: 0.0288 - val_loss: 0.0030 - val_mae: 0.0316\n",
      "Epoch 42/200\n",
      "52/52 - 0s - loss: 0.0023 - mae: 0.0280 - val_loss: 0.0023 - val_mae: 0.0268\n",
      "Epoch 43/200\n",
      "52/52 - 0s - loss: 0.0022 - mae: 0.0271 - val_loss: 0.0024 - val_mae: 0.0275\n",
      "Epoch 44/200\n",
      "52/52 - 0s - loss: 0.0022 - mae: 0.0272 - val_loss: 0.0033 - val_mae: 0.0313\n",
      "Epoch 45/200\n",
      "52/52 - 0s - loss: 0.0023 - mae: 0.0275 - val_loss: 0.0026 - val_mae: 0.0284\n",
      "Epoch 46/200\n",
      "52/52 - 0s - loss: 0.0025 - mae: 0.0284 - val_loss: 0.0023 - val_mae: 0.0270\n",
      "Epoch 47/200\n",
      "52/52 - 0s - loss: 0.0022 - mae: 0.0272 - val_loss: 0.0019 - val_mae: 0.0253\n",
      "Epoch 48/200\n",
      "52/52 - 0s - loss: 0.0020 - mae: 0.0259 - val_loss: 0.0029 - val_mae: 0.0310\n",
      "Epoch 49/200\n",
      "52/52 - 0s - loss: 0.0021 - mae: 0.0267 - val_loss: 0.0028 - val_mae: 0.0309\n",
      "Epoch 50/200\n",
      "52/52 - 0s - loss: 0.0020 - mae: 0.0257 - val_loss: 0.0021 - val_mae: 0.0260\n",
      "Epoch 51/200\n",
      "52/52 - 0s - loss: 0.0022 - mae: 0.0271 - val_loss: 0.0028 - val_mae: 0.0305\n",
      "Epoch 52/200\n",
      "52/52 - 0s - loss: 0.0020 - mae: 0.0260 - val_loss: 0.0025 - val_mae: 0.0297\n",
      "Epoch 53/200\n",
      "52/52 - 0s - loss: 0.0020 - mae: 0.0253 - val_loss: 0.0021 - val_mae: 0.0249\n",
      "Epoch 54/200\n",
      "52/52 - 0s - loss: 0.0021 - mae: 0.0261 - val_loss: 0.0027 - val_mae: 0.0291\n",
      "Epoch 55/200\n",
      "52/52 - 0s - loss: 0.0021 - mae: 0.0261 - val_loss: 0.0046 - val_mae: 0.0393\n",
      "Epoch 56/200\n",
      "52/52 - 0s - loss: 0.0023 - mae: 0.0270 - val_loss: 0.0022 - val_mae: 0.0266\n",
      "Epoch 57/200\n",
      "52/52 - 0s - loss: 0.0022 - mae: 0.0267 - val_loss: 0.0021 - val_mae: 0.0257\n"
     ]
    }
   ],
   "source": [
    "# Defining the number of training epochs\n",
    "epochs = 200\n",
    "\n",
    "# Early stopping with a patience of 10 epochs\n",
    "early_stopping = keras.callbacks.EarlyStopping(monitor='val_loss', patience=10)\n",
    "\n",
    "# Training the model\n",
    "history = model.fit(\n",
    "    normalized_train_features, \n",
    "    train_labels,\n",
    "    epochs=epochs,\n",
    "    validation_split = 0.2,\n",
    "    verbose = 2,\n",
    "    callbacks=[early_stopping]\n",
    ")"
   ]
  },
  {
   "cell_type": "code",
   "execution_count": 50,
   "id": "2bb653d0",
   "metadata": {},
   "outputs": [],
   "source": [
    "# Function to plot the metrics of training and validation\n",
    "def plotHistory(history, training_metric, validation_metric, ylabel):\n",
    "  plt.plot(history.history[training_metric], label=training_metric)\n",
    "  plt.plot(history.history[validation_metric], label=validation_metric)\n",
    "  plt.ylim([0, np.max(history.history[training_metric] + history.history[validation_metric])])\n",
    "  plt.xlabel('Epoch')\n",
    "  plt.ylabel(ylabel)\n",
    "  plt.legend()\n",
    "  plt.grid(True)\n",
    "  plt.show()"
   ]
  },
  {
   "cell_type": "code",
   "execution_count": 51,
   "id": "ae357e96",
   "metadata": {},
   "outputs": [
    {
     "data": {
      "image/png": "[encoded data removed]",
      "text/plain": [
       "<Figure size 432x288 with 1 Axes>"
      ]
     },
     "metadata": {
      "needs_background": "light"
     },
     "output_type": "display_data"
    },
    {
     "data": {
      "image/png": "[encoded data removed]",
      "text/plain": [
       "<Figure size 432x288 with 1 Axes>"
      ]
     },
     "metadata": {
      "needs_background": "light"
     },
     "output_type": "display_data"
    }
   ],
   "source": [
    "plotHistory(history, 'loss', 'val_loss', \"Loss\")\n",
    "plotHistory(history, 'mae', 'val_mae', \"Mean Absolute Error\")"
   ]
  },
  {
   "cell_type": "markdown",
   "id": "d1683c78",
   "metadata": {},
   "source": [
    "### Model evaluation"
   ]
  },
  {
   "cell_type": "code",
   "execution_count": 52,
   "id": "5c27086f",
   "metadata": {},
   "outputs": [
    {
     "name": "stdout",
     "output_type": "stream",
     "text": [
      "RESULTS\n",
      "Loss (Mean Square Error) --> 0.002285678405314684\n",
      "Mean Absolute Error --> 0.025920426473021507\n"
     ]
    }
   ],
   "source": [
    "# Extracting the values of loss, mean absolute error and mean square error\n",
    "loss, mae = model.evaluate(normalized_test_features, test_labels, verbose = 0)\n",
    "\n",
    "print(\"RESULTS\")\n",
    "print(f\"Loss (Mean Square Error) --> {loss}\")\n",
    "print(f\"Mean Absolute Error --> {mae}\")"
   ]
  },
  {
   "cell_type": "code",
   "execution_count": 53,
   "id": "d7ad1a05",
   "metadata": {},
   "outputs": [],
   "source": [
    "# Computing the predictions of the test set\n",
    "predictions = model.predict(normalized_test_features)"
   ]
  },
  {
   "cell_type": "code",
   "execution_count": 54,
   "id": "a929dd8f",
   "metadata": {},
   "outputs": [],
   "source": [
    "# Function to plot the predicted values\n",
    "def plotPredictions(test_labels, test_predictions, label, color):\n",
    "  plt.scatter(test_labels, test_predictions, label=label, color=color)\n",
    "  plt.xlabel('True values')\n",
    "  plt.ylabel('Predictions')\n",
    "  plt.axis('equal')\n",
    "  plt.axis('square')\n",
    "  plt.xlim([0, 1])\n",
    "  plt.ylim([0, 1])\n",
    "  plt.plot([0, 1], [0, 1], color=\"black\")\n",
    "  plt.legend()"
   ]
  },
  {
   "cell_type": "code",
   "execution_count": 55,
   "id": "ae80cfb4",
   "metadata": {},
   "outputs": [
    {
     "data": {
      "image/png": "[encoded data removed]",
      "text/plain": [
       "<Figure size 432x288 with 1 Axes>"
      ]
     },
     "metadata": {
      "needs_background": "light"
     },
     "output_type": "display_data"
    }
   ],
   "source": [
    "colors = [\"blue\", \"green\", \"orange\"]\n",
    "\n",
    "# Plotting the obtained results\n",
    "for i in range(len(naca_numbers)):\n",
    "  plotPredictions(test_labels[:,i], predictions[:,i], label=naca_numbers[i], color=colors[i])"
   ]
  }
 ],
 "metadata": {
  "interpreter": {
   "hash": "c11202d2846b22eec7deaf37ea813ba92a5f75b5344a4d16688175855af7948e"
  },
  "kernelspec": {
   "display_name": "Python 3.9.10 ('base')",
   "language": "python",
   "name": "python3"
  },
  "language_info": {
   "codemirror_mode": {
    "name": "ipython",
    "version": 3
   },
   "file_extension": ".py",
   "mimetype": "text/x-python",
   "name": "python",
   "nbconvert_exporter": "python",
   "pygments_lexer": "ipython3",
   "version": "3.9.12"
  }
 },
 "nbformat": 4,
 "nbformat_minor": 5
}
