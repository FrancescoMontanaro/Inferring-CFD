{
 "cells": [
  {
   "cell_type": "code",
   "execution_count": null,
   "metadata": {},
   "outputs": [],
   "source": [
    "import optuna\n",
    "import numpy as np\n",
    "import tensorflow as tf\n",
    "from tensorflow import keras"
   ]
  },
  {
   "cell_type": "markdown",
   "metadata": {},
   "source": [
    "### Constants and hyperparameters"
   ]
  },
  {
   "cell_type": "code",
   "execution_count": null,
   "metadata": {},
   "outputs": [],
   "source": [
    "epochs = 350 # Number of training epochs\n",
    "split_percentage = 0.8 # Training and test set splitting percentage\n",
    "validation_split = 0.2 # Validation set percentage\n",
    "early_stopping_patience = 20 # Number of epochs of patience before triggering early stopping\n",
    "naca_numbers = ['maximum_camber', 'maximum_camber_position', 'maximum_thickness'] # NACA numbers to predict"
   ]
  },
  {
   "cell_type": "code",
   "execution_count": null,
   "metadata": {},
   "outputs": [],
   "source": [
    "dataset_path = \"../Dataset/Flow signals/2c/128.npz\" # Dataset path\n",
    "flow_quantity = \"p\" # Flow quantity to be used as feature"
   ]
  },
  {
   "cell_type": "markdown",
   "metadata": {},
   "source": [
    "### Data loading"
   ]
  },
  {
   "cell_type": "code",
   "execution_count": null,
   "metadata": {},
   "outputs": [],
   "source": [
    "# Loading the data\n",
    "dataset = np.load(dataset_path)\n",
    "dataset = list(zip(dataset[flow_quantity], dataset[\"naca_numbers\"]))"
   ]
  },
  {
   "cell_type": "markdown",
   "metadata": {},
   "source": [
    "### Shuffling the dataset"
   ]
  },
  {
   "cell_type": "code",
   "execution_count": null,
   "metadata": {},
   "outputs": [],
   "source": [
    "# Shuffling the dataset\n",
    "np.random.shuffle(dataset)"
   ]
  },
  {
   "cell_type": "markdown",
   "metadata": {},
   "source": [
    "### Features and labels"
   ]
  },
  {
   "cell_type": "code",
   "execution_count": null,
   "metadata": {},
   "outputs": [],
   "source": [
    "# Extracting the features and the labels from the dataset\n",
    "X, Y = zip(*dataset)\n",
    "X, Y = np.array(X), np.array(Y)"
   ]
  },
  {
   "cell_type": "markdown",
   "metadata": {},
   "source": [
    "### Training and test set"
   ]
  },
  {
   "cell_type": "code",
   "execution_count": null,
   "metadata": {},
   "outputs": [],
   "source": [
    "# Computing the number of training samples according to the splitting percentage\n",
    "num_training_samples = int(np.floor(split_percentage * len(dataset)))"
   ]
  },
  {
   "cell_type": "code",
   "execution_count": null,
   "metadata": {},
   "outputs": [],
   "source": [
    "# Extracting the training features and labels\n",
    "X_train = np.expand_dims(X[:num_training_samples], axis=2)\n",
    "Y_train = Y[:num_training_samples]\n",
    "\n",
    "# Extracting the test features and labels\n",
    "X_test = np.expand_dims(X[num_training_samples:], axis=2)\n",
    "Y_test = Y[num_training_samples:]"
   ]
  },
  {
   "cell_type": "markdown",
   "metadata": {},
   "source": [
    "### Data normalization"
   ]
  },
  {
   "cell_type": "code",
   "execution_count": null,
   "metadata": {},
   "outputs": [],
   "source": [
    "# Computing the mean and standard deviation of the training features\n",
    "mean = X_train.mean(axis=0)\n",
    "std = X_train.std(axis=0)"
   ]
  },
  {
   "cell_type": "code",
   "execution_count": null,
   "metadata": {},
   "outputs": [],
   "source": [
    "# Function to normalize samples\n",
    "def normalize(x):\n",
    "    x = (x - mean) / std\n",
    "    return x"
   ]
  },
  {
   "cell_type": "markdown",
   "metadata": {},
   "source": [
    "### Creating the study cases"
   ]
  },
  {
   "cell_type": "code",
   "execution_count": null,
   "metadata": {},
   "outputs": [],
   "source": [
    "# Function to create a testing model\n",
    "def createModel(trial):\n",
    "    # Creating the Model\n",
    "    model = keras.Sequential()\n",
    "\n",
    "    # Dropout rate\n",
    "    dropout_rate = trial.suggest_discrete_uniform(\"dropout_rate\", 0.01, 0.1, 0.01)\n",
    "\n",
    "    # Kernels size\n",
    "    kernel_size = trial.suggest_int(\"kernel_size\", 1, 6)\n",
    "\n",
    "    # Pools size\n",
    "    pool_size = trial.suggest_int(\"pool_size\", 2, 4)\n",
    "\n",
    "    # Input layer\n",
    "    model.add(keras.layers.InputLayer(input_shape=np.shape(X_train)[1:]))\n",
    "\n",
    "\n",
    "    # Normalization layer\n",
    "    model.add(keras.layers.Lambda(normalize))\n",
    "\n",
    "    # Number of convolutional layers\n",
    "    num_conv_layers = trial.suggest_int(\"num_conv_layers\", 1, 2)\n",
    "    for i in range(num_conv_layers):\n",
    "        # Number of filters\n",
    "        num_filters = trial.suggest_categorical(f\"num_filters__conv_layer_{i+1}\", [2*j for j in range(1, 10)])\n",
    "\n",
    "        # Adding the convolutional layer\n",
    "        model.add(keras.layers.Conv1D(filters=num_filters, kernel_size=kernel_size, activation=tf.nn.tanh, padding=\"same\"))\n",
    "        model.add(keras.layers.MaxPool1D(pool_size=pool_size, padding=\"same\"))\n",
    "        model.add(keras.layers.Dropout(rate=dropout_rate))\n",
    "\n",
    "    # Flatten layer\n",
    "    model.add(keras.layers.Flatten())\n",
    "\n",
    "    # Number of fully connected layers\n",
    "    num_fc_layers = trial.suggest_int(\"num_fc_layers\", 1, 5)\n",
    "    for i in range(num_fc_layers):\n",
    "        # Number of units\n",
    "        num_units = trial.suggest_categorical(f\"num_units__fc_layer_{i+1}\", [10*j for j in range(1, 4)])\n",
    "\n",
    "        # Adding the fully connected layer\n",
    "        model.add(keras.layers.Dense(num_units, activation=tf.nn.tanh))\n",
    "\n",
    "    # Output layer\n",
    "    model.add(keras.layers.Dense(len(naca_numbers)))\n",
    "\n",
    "    # Compiling the model\n",
    "    model.compile(loss='mse', optimizer=\"adam\", metrics=['mae'])\n",
    "\n",
    "    return model"
   ]
  },
  {
   "cell_type": "code",
   "execution_count": null,
   "metadata": {},
   "outputs": [],
   "source": [
    "# Early stopping with a predefined patience\n",
    "early_stopping = keras.callbacks.EarlyStopping(\n",
    "    monitor='val_loss', \n",
    "    patience=early_stopping_patience,\n",
    "    restore_best_weights=True,\n",
    "    verbose=False\n",
    ")"
   ]
  },
  {
   "cell_type": "code",
   "execution_count": null,
   "metadata": {},
   "outputs": [],
   "source": [
    "# Function to train the model\n",
    "def train(model, trial):\n",
    "    # Batch size \n",
    "    batch_size = trial.suggest_categorical(\"batch_size\", [4*i for i in range (1, 6)])\n",
    "\n",
    "    # Fitting the model\n",
    "    model.fit(\n",
    "        X_train, \n",
    "        Y_train,\n",
    "        epochs=epochs,\n",
    "        validation_split=0.2,\n",
    "        batch_size=batch_size,\n",
    "        verbose=0,\n",
    "        callbacks=[\n",
    "            early_stopping, \n",
    "            optuna.integration.TFKerasPruningCallback(trial, 'val_mae')\n",
    "        ]\n",
    "    )"
   ]
  },
  {
   "cell_type": "code",
   "execution_count": null,
   "metadata": {},
   "outputs": [],
   "source": [
    "# Function to evaluate the model\n",
    "def evaluate(model):\n",
    "    loss, mae = model.evaluate(X_test, Y_test, verbose=0)\n",
    "    return loss, mae"
   ]
  },
  {
   "cell_type": "code",
   "execution_count": null,
   "metadata": {},
   "outputs": [],
   "source": [
    "# Objective function to be minimized\n",
    "def objective(trial):\n",
    "    # Building the model\n",
    "    model = createModel(trial)\n",
    "\n",
    "    # Training the model\n",
    "    train(model, trial)\n",
    "\n",
    "    # Evaluating the model\n",
    "    _, mae = evaluate(model)\n",
    "\n",
    "    return mae"
   ]
  },
  {
   "cell_type": "markdown",
   "metadata": {},
   "source": [
    "### Evaluating the hyperparameters"
   ]
  },
  {
   "cell_type": "code",
   "execution_count": null,
   "metadata": {},
   "outputs": [],
   "source": [
    "# Creating the study object with the specified configurations\n",
    "study = optuna.create_study(\n",
    "    study_name=\"CNN\",\n",
    "    direction=\"minimize\",\n",
    "    pruner=optuna.pruners.MedianPruner(n_startup_trials=5, n_warmup_steps=20),\n",
    "    sampler=optuna.samplers.TPESampler()\n",
    ")\n",
    "\n",
    "# Running the study\n",
    "study.optimize(objective, n_trials=100)"
   ]
  },
  {
   "cell_type": "code",
   "execution_count": null,
   "metadata": {},
   "outputs": [],
   "source": [
    "# Extractig the pruned and complete trials\n",
    "pruned_trials = [t for t in study.trials if t.state == optuna.structs.TrialState.PRUNED]\n",
    "complete_trials = [t for t in study.trials if t.state == optuna.structs.TrialState.COMPLETE]\n",
    "\n",
    "print(\"STUDY STATISTICS\")\n",
    "print(f\"Number of finished trials --> {len(study.trials)}\")\n",
    "print(f\"Number of pruned trials --> {len(pruned_trials)}\")\n",
    "print(f\"Number of complete trials --> {len(complete_trials)}\")"
   ]
  },
  {
   "cell_type": "code",
   "execution_count": null,
   "metadata": {},
   "outputs": [],
   "source": [
    "# Extracting the best trial from the study performed\n",
    "trial = study.best_trial\n",
    "\n",
    "# Displaying the obtained results\n",
    "print(\"BEST TRIAL\")\n",
    "print(f\"Mean Absolute Error --> {trial.value}\\n\")\n",
    "\n",
    "print(\"BEST HYPERPARAMETERS\")\n",
    "for key, value in trial.params.items():\n",
    "    print(f\"{key}: {value}\")"
   ]
  }
 ],
 "metadata": {
  "interpreter": {
   "hash": "4bd624a0593993fe43ac4046b27b898fb2ef75c21c08f81e89e64ea0f51df676"
  },
  "kernelspec": {
   "display_name": "Python 3.9.12 ('tensorflow')",
   "language": "python",
   "name": "python3"
  },
  "language_info": {
   "codemirror_mode": {
    "name": "ipython",
    "version": 3
   },
   "file_extension": ".py",
   "mimetype": "text/x-python",
   "name": "python",
   "nbconvert_exporter": "python",
   "pygments_lexer": "ipython3",
   "version": "3.9.13"
  },
  "orig_nbformat": 4
 },
 "nbformat": 4,
 "nbformat_minor": 2
}
