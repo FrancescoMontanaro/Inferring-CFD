{
 "cells": [
  {
   "cell_type": "code",
   "execution_count": null,
   "metadata": {},
   "outputs": [],
   "source": [
    "import json\n",
    "import numpy as np\n",
    "import tensorflow as tf\n",
    "from tensorflow import keras\n",
    "from sklearn.model_selection import KFold"
   ]
  },
  {
   "cell_type": "markdown",
   "metadata": {},
   "source": [
    "### Constants and hyperparameters"
   ]
  },
  {
   "cell_type": "code",
   "execution_count": null,
   "metadata": {},
   "outputs": [],
   "source": [
    "k = 5 # Number of k folds for cross validation\n",
    "epochs = 500 # Number of training epochs\n",
    "split_percentage = 0.8 # Training and test set splitting percentage\n",
    "validation_split = 0.2 # Validation set percentage\n",
    "early_stopping_patience = 15 # Number of epochs of patience before triggering early stopping\n",
    "early_stopping = keras.callbacks.EarlyStopping(monitor='val_loss', patience=early_stopping_patience) # Early stopping"
   ]
  },
  {
   "cell_type": "code",
   "execution_count": null,
   "metadata": {},
   "outputs": [],
   "source": [
    "# CHANGE ME\n",
    "dataset_path = \"../Dataset/Flow signals/ND_signals/1d_flow_signals_-1c.json\"\n",
    "feature_name = \"p\""
   ]
  },
  {
   "cell_type": "markdown",
   "metadata": {},
   "source": [
    "### Data Loading"
   ]
  },
  {
   "cell_type": "code",
   "execution_count": null,
   "metadata": {},
   "outputs": [],
   "source": [
    "naca_numbers = ['maximum_camber', 'maximum_camber_position', 'maximum_thickness']\n",
    "\n",
    "dataset = []\n",
    "with open(dataset_path, 'r') as dataset_file:\n",
    "  samples = json.load(dataset_file)\n",
    "  for sample in samples:\n",
    "    dataset.append({\n",
    "        \"features\": sample[\"features\"][feature_name],\n",
    "        \"labels\": list(sample[\"naca_numbers\"].values())\n",
    "    })"
   ]
  },
  {
   "cell_type": "markdown",
   "metadata": {},
   "source": [
    "### Shuffling the dataset"
   ]
  },
  {
   "cell_type": "code",
   "execution_count": null,
   "metadata": {},
   "outputs": [],
   "source": [
    "# Shuffling the dataset\n",
    "np.random.shuffle(dataset)"
   ]
  },
  {
   "cell_type": "markdown",
   "metadata": {},
   "source": [
    "### Building the model"
   ]
  },
  {
   "cell_type": "code",
   "execution_count": null,
   "metadata": {},
   "outputs": [],
   "source": [
    "# BEST MODEL FOR 1D SIGNALS\n",
    "def buildModel(input_shape):\n",
    "  # Sequential model - CNN 1D\n",
    "  model = keras.Sequential([\n",
    "    keras.layers.InputLayer(input_shape=input_shape),\n",
    "    keras.layers.Conv1D(filters=30, kernel_size=3, activation=tf.nn.tanh),\n",
    "    keras.layers.AveragePooling1D(pool_size=2),\n",
    "    keras.layers.Dropout(0.01),\n",
    "    keras.layers.Conv1D(filters=20, kernel_size=3, activation=tf.nn.tanh),\n",
    "    keras.layers.AveragePooling1D(pool_size=2),\n",
    "    keras.layers.Dropout(0.01),\n",
    "    keras.layers.Flatten(),\n",
    "    keras.layers.Dense(20, activation=tf.nn.tanh),\n",
    "    keras.layers.Dense(10, activation=tf.nn.tanh),\n",
    "    keras.layers.Dense(len(naca_numbers))\n",
    "  ])\n",
    "\n",
    "  # Compiling the model\n",
    "  model.compile(loss='mse', optimizer='adam', metrics=['mae'])\n",
    "  \n",
    "  return model"
   ]
  },
  {
   "cell_type": "markdown",
   "metadata": {},
   "source": [
    "### Metrics computation"
   ]
  },
  {
   "cell_type": "code",
   "execution_count": null,
   "metadata": {},
   "outputs": [],
   "source": [
    "# Function to compute the classification accuracy\n",
    "def computeAccuracy(predictions, test_labels):\n",
    "    # Creating an array to save the results\n",
    "    accuracy = np.zeros(len(naca_numbers))\n",
    "\n",
    "    for idx in range(len(naca_numbers)):\n",
    "        # Converting the NACA values to the closest interger\n",
    "        naca_predictions = np.array([round(prediction) for prediction in predictions[:,idx]])\n",
    "        naca_labels = np.array([round(label) for label in test_labels[:,idx]])\n",
    "\n",
    "        # Extracting the samples correctly classified\n",
    "        correctly_classified = np.where(np.equal(naca_predictions, naca_labels))\n",
    "\n",
    "        # Computing the classification accuracy of the current NACA number\n",
    "        accuracy[idx] = np.shape(correctly_classified)[1] / len(naca_labels)\n",
    "\n",
    "    return accuracy"
   ]
  },
  {
   "cell_type": "code",
   "execution_count": null,
   "metadata": {},
   "outputs": [],
   "source": [
    "def computeMAE(predictions, test_labels):\n",
    "    # Creating an array to save the results\n",
    "    maes = np.zeros(len(naca_numbers))\n",
    "\n",
    "    # Computing the Mean absolute error\n",
    "    for idx in range(len(naca_numbers)):\n",
    "        # Computing the Mean Absolute Error of the current NACA number\n",
    "        mae = np.mean(np.absolute(predictions[:,idx] - test_labels[:,idx]))\n",
    "\n",
    "        # Adding the result to the array\n",
    "        maes[idx] = mae\n",
    "\n",
    "    return maes"
   ]
  },
  {
   "cell_type": "markdown",
   "metadata": {},
   "source": [
    "### K fold cross validation"
   ]
  },
  {
   "cell_type": "code",
   "execution_count": null,
   "metadata": {},
   "outputs": [],
   "source": [
    "features = np.array([sample[\"features\"] for sample in dataset])\n",
    "labels = np.array([sample[\"labels\"] for sample in dataset])"
   ]
  },
  {
   "cell_type": "code",
   "execution_count": null,
   "metadata": {},
   "outputs": [],
   "source": [
    "experiment = 0\n",
    "mae, accuracy = np.zeros([k, len(naca_numbers)]), np.zeros([k, len(naca_numbers)])\n",
    "for train_index, test_index in KFold(k).split(dataset):\n",
    "    # Training and test set\n",
    "    train_features, test_features = features[train_index], features[test_index]\n",
    "    train_labels, test_labels= labels[train_index], labels[test_index]\n",
    "\n",
    "    # Normalizing the data\n",
    "    mean = train_features.mean(axis=0)\n",
    "    std = train_features.std(axis=0)\n",
    "\n",
    "    # Normalizing the training and test features w.r.t. the training statistics\n",
    "    normalized_train_features = (train_features - mean) / std\n",
    "    normalized_test_features = (test_features - mean) / std\n",
    "\n",
    "    # Building the model\n",
    "    model = buildModel(input_shape=np.shape(normalized_train_features)[1:])\n",
    "\n",
    "    # Training the model\n",
    "    history = model.fit(\n",
    "        normalized_train_features, \n",
    "        train_labels,\n",
    "        epochs=epochs,\n",
    "        validation_split=validation_split,\n",
    "        verbose=0,\n",
    "        callbacks=[early_stopping]\n",
    "    )\n",
    "\n",
    "    # Computing the predictions of the test set\n",
    "    predictions = model.predict(normalized_test_features)\n",
    "\n",
    "    # Computing the regression Mean Absolute Error\n",
    "    experiment_mae = computeMAE(predictions, test_labels)\n",
    "    \n",
    "    # Computing the classification accuracy\n",
    "    experiment_accuracy = computeAccuracy(predictions, test_labels)\n",
    "    \n",
    "    # Adding the metrics to the results lists\n",
    "    mae[experiment, :] = experiment_mae\n",
    "    accuracy[experiment, :] = experiment_accuracy\n",
    "\n",
    "    # Displaying status\n",
    "    print(f'Experiment {experiment+1}/{k} | Number of train samples: {len(train_features)} | Number of test samples: {len(test_features)} | Regression MAE: {np.mean(experiment_mae)} | Classification Accuracy: {np.mean(experiment_accuracy)}')\n",
    "    experiment += 1"
   ]
  },
  {
   "cell_type": "markdown",
   "metadata": {},
   "source": [
    "### Results"
   ]
  },
  {
   "cell_type": "code",
   "execution_count": null,
   "metadata": {},
   "outputs": [],
   "source": [
    "print(\"REGRESSION\")\n",
    "print(f\" - Mean Absolute Error --> {np.mean(mae.flatten())}\")\n",
    "for i in range(len(naca_numbers)):\n",
    "    print(f\"   • {naca_numbers[i]} --> {np.mean(mae[:,i])}\")\n",
    "\n",
    "\n",
    "print(\"\\nCLASSIFICATION\")\n",
    "print(f\" - Accuracy --> {np.mean(accuracy.flatten())}\")\n",
    "for i in range(len(naca_numbers)):\n",
    "    print(f\"   • {naca_numbers[i]} --> {np.mean(accuracy[:,i])}\")"
   ]
  }
 ],
 "metadata": {
  "interpreter": {
   "hash": "4bd624a0593993fe43ac4046b27b898fb2ef75c21c08f81e89e64ea0f51df676"
  },
  "kernelspec": {
   "display_name": "Python 3.9.12 ('tensorflow')",
   "language": "python",
   "name": "python3"
  },
  "language_info": {
   "codemirror_mode": {
    "name": "ipython",
    "version": 3
   },
   "file_extension": ".py",
   "mimetype": "text/x-python",
   "name": "python",
   "nbconvert_exporter": "python",
   "pygments_lexer": "ipython3",
   "version": "3.9.12"
  },
  "orig_nbformat": 4
 },
 "nbformat": 4,
 "nbformat_minor": 2
}
