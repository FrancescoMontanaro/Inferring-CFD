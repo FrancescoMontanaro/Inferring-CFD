{
 "cells": [
  {
   "cell_type": "code",
   "execution_count": 1,
   "metadata": {},
   "outputs": [
    {
     "name": "stdout",
     "output_type": "stream",
     "text": [
      "Init Plugin\n",
      "Init Graph Optimizer\n",
      "Init Kernel\n"
     ]
    }
   ],
   "source": [
    "import random\n",
    "import numpy as np\n",
    "import tensorflow as tf\n",
    "from tensorflow import keras\n",
    "import matplotlib.pyplot as plt"
   ]
  },
  {
   "cell_type": "markdown",
   "metadata": {},
   "source": [
    "### Constants and hyperparameters"
   ]
  },
  {
   "cell_type": "code",
   "execution_count": 2,
   "metadata": {},
   "outputs": [],
   "source": [
    "epochs = 500 # Number of training epochs\n",
    "batch_size = 12 # Batch size\n",
    "split_percentage = 0.8 # Training and test set splitting percentage\n",
    "validation_split = 0.2 # Validation set percentage\n",
    "early_stopping_patience = 20 # Number of epochs of patience before triggering early stopping"
   ]
  },
  {
   "cell_type": "code",
   "execution_count": 3,
   "metadata": {},
   "outputs": [],
   "source": [
    "dataset_path = \"../Dataset/Sensors/Parallel/2D/Single NACA/2D_sensor__20x20__single_naca__x_y.npz\" # Dataset path\n",
    "labels = [\"x\", \"y\"] # Name of the labels\n",
    "flow_field = \"p\" # Flow quantity to be used as input feature"
   ]
  },
  {
   "cell_type": "markdown",
   "metadata": {},
   "source": [
    "### Data loading"
   ]
  },
  {
   "cell_type": "code",
   "execution_count": 4,
   "metadata": {},
   "outputs": [],
   "source": [
    "# Loading the data\n",
    "dataset = np.load(dataset_path)\n",
    "dataset = list(zip(dataset[flow_field], *[dataset[label] for label in labels]))"
   ]
  },
  {
   "cell_type": "code",
   "execution_count": 5,
   "metadata": {},
   "outputs": [
    {
     "name": "stdout",
     "output_type": "stream",
     "text": [
      "8133\n"
     ]
    }
   ],
   "source": [
    "print(len(dataset))"
   ]
  },
  {
   "cell_type": "markdown",
   "metadata": {},
   "source": [
    "### Shuffling the dataset"
   ]
  },
  {
   "cell_type": "code",
   "execution_count": 6,
   "metadata": {},
   "outputs": [],
   "source": [
    "# Shuffling the dataset\n",
    "np.random.shuffle(dataset)"
   ]
  },
  {
   "cell_type": "markdown",
   "metadata": {},
   "source": [
    "### Features and labels"
   ]
  },
  {
   "cell_type": "code",
   "execution_count": 7,
   "metadata": {},
   "outputs": [],
   "source": [
    "# Extracting the features and the labels from the dataset\n",
    "X, *Y = zip(*dataset)\n",
    "X, Y = np.array(X), np.array(Y).T"
   ]
  },
  {
   "cell_type": "markdown",
   "metadata": {},
   "source": [
    "### Training and test set"
   ]
  },
  {
   "cell_type": "code",
   "execution_count": 8,
   "metadata": {},
   "outputs": [],
   "source": [
    "# Computing the number of training samples according to the splitting percentage\n",
    "num_training_samples = int(np.floor(split_percentage * len(dataset)))"
   ]
  },
  {
   "cell_type": "code",
   "execution_count": 9,
   "metadata": {},
   "outputs": [],
   "source": [
    "# Extracting the training features and labels\n",
    "X_train = np.expand_dims(X[:num_training_samples], axis=3)\n",
    "Y_train = Y[:num_training_samples]\n",
    "\n",
    "# Extracting the test features and labels\n",
    "X_test = np.expand_dims(X[num_training_samples:], axis=3)\n",
    "Y_test = Y[num_training_samples:]"
   ]
  },
  {
   "cell_type": "markdown",
   "metadata": {},
   "source": [
    "### Data normalization"
   ]
  },
  {
   "cell_type": "code",
   "execution_count": 10,
   "metadata": {},
   "outputs": [],
   "source": [
    "# Computing the mean and standard deviation of the training features\n",
    "max = X_train.max()"
   ]
  },
  {
   "cell_type": "code",
   "execution_count": 11,
   "metadata": {},
   "outputs": [],
   "source": [
    "# Function to normalize the features\n",
    "def normalize(x):\n",
    "    x *= 255.0 / max\n",
    "    return x"
   ]
  },
  {
   "cell_type": "code",
   "execution_count": 12,
   "metadata": {},
   "outputs": [
    {
     "data": {
      "image/png": "[encoded data removed]",
      "text/plain": [
       "<Figure size 432x288 with 1 Axes>"
      ]
     },
     "metadata": {
      "needs_background": "light"
     },
     "output_type": "display_data"
    }
   ],
   "source": [
    "# Plotting a random sample\n",
    "choice = np.random.randint(0, (len(X_train)-1))\n",
    "plt.title(f'{\"\".join([(labels[i] + \": \" + str(Y_train[choice][i]) + (\" | \" if i < len(labels) - 1 else \"\")) for i in range(len(labels))])}')\n",
    "plt.imshow(X_train[choice][:,:,0], cmap=\"gray\")\n",
    "plt.show()"
   ]
  },
  {
   "cell_type": "markdown",
   "metadata": {},
   "source": [
    "### Building the model"
   ]
  },
  {
   "cell_type": "code",
   "execution_count": 13,
   "metadata": {},
   "outputs": [],
   "source": [
    "\n",
    "# BEST MODEL FOR SECTIONS X = [-1c, 2c]\n",
    "def buildModel():\n",
    "  # Sequential model - CNN 1D\n",
    "  model = keras.Sequential([\n",
    "    keras.layers.InputLayer(input_shape=np.shape(X_train)[1:]),\n",
    "    keras.layers.Lambda(normalize),\n",
    "    keras.layers.Conv2D(filters=24, kernel_size=(3, 3), activation=tf.nn.relu, padding=\"same\"),\n",
    "    keras.layers.AveragePooling2D(pool_size=(2,2)),\n",
    "    keras.layers.Conv2D(filters=48, kernel_size=(3, 3), activation=tf.nn.relu, padding=\"same\"),\n",
    "    keras.layers.AveragePooling2D(pool_size=(2,2)),\n",
    "    keras.layers.Flatten(),\n",
    "    keras.layers.Dense(60, tf.nn.relu),\n",
    "    keras.layers.Dense(30, tf.nn.relu),\n",
    "    keras.layers.Dense(30, tf.nn.relu),\n",
    "    keras.layers.Dense(30, tf.nn.relu),\n",
    "    keras.layers.Dense(np.shape(Y)[1])\n",
    "  ])\n",
    "\n",
    "  # Compiling the model\n",
    "  model.compile(loss='mse', optimizer=\"adam\", metrics=['mae'])\n",
    "  \n",
    "  return model"
   ]
  },
  {
   "cell_type": "code",
   "execution_count": 14,
   "metadata": {},
   "outputs": [
    {
     "name": "stdout",
     "output_type": "stream",
     "text": [
      "Metal device set to: Apple M1\n",
      "\n",
      "systemMemory: 8.00 GB\n",
      "maxCacheSize: 2.67 GB\n",
      "\n",
      "Model: \"sequential\"\n",
      "_________________________________________________________________\n",
      "Layer (type)                 Output Shape              Param #   \n",
      "=================================================================\n",
      "lambda (Lambda)              (None, 20, 20, 1)         0         \n",
      "_________________________________________________________________\n",
      "conv2d (Conv2D)              (None, 20, 20, 24)        240       \n",
      "_________________________________________________________________\n",
      "max_pooling2d (MaxPooling2D) (None, 10, 10, 24)        0         \n",
      "_________________________________________________________________\n",
      "conv2d_1 (Conv2D)            (None, 10, 10, 48)        10416     \n",
      "_________________________________________________________________\n",
      "max_pooling2d_1 (MaxPooling2 (None, 5, 5, 48)          0         \n",
      "_________________________________________________________________\n",
      "flatten (Flatten)            (None, 1200)              0         \n",
      "_________________________________________________________________\n",
      "dense (Dense)                (None, 60)                72060     \n",
      "_________________________________________________________________\n",
      "dense_1 (Dense)              (None, 30)                1830      \n",
      "_________________________________________________________________\n",
      "dense_2 (Dense)              (None, 30)                930       \n",
      "_________________________________________________________________\n",
      "dense_3 (Dense)              (None, 30)                930       \n",
      "_________________________________________________________________\n",
      "dense_4 (Dense)              (None, 2)                 62        \n",
      "=================================================================\n",
      "Total params: 86,468\n",
      "Trainable params: 86,468\n",
      "Non-trainable params: 0\n",
      "_________________________________________________________________\n"
     ]
    }
   ],
   "source": [
    "model = buildModel()\n",
    "model.summary()"
   ]
  },
  {
   "cell_type": "markdown",
   "metadata": {},
   "source": [
    "### Model training"
   ]
  },
  {
   "cell_type": "code",
   "execution_count": 15,
   "metadata": {},
   "outputs": [
    {
     "name": "stderr",
     "output_type": "stream",
     "text": [
      "2022-10-05 15:41:15.885768: W tensorflow/core/platform/profile_utils/cpu_utils.cc:128] Failed to get CPU frequency: 0 Hz\n"
     ]
    },
    {
     "name": "stdout",
     "output_type": "stream",
     "text": [
      "Epoch 1/500\n",
      "434/434 [==============================] - 6s 12ms/step - loss: 42694.9375 - mae: 151.8274 - val_loss: 19097.3262 - val_mae: 103.6173\n",
      "Epoch 2/500\n",
      "434/434 [==============================] - 5s 11ms/step - loss: 17280.2559 - mae: 98.7174 - val_loss: 15370.1709 - val_mae: 95.4508\n",
      "Epoch 3/500\n",
      "434/434 [==============================] - 5s 11ms/step - loss: 15206.1855 - mae: 94.8974 - val_loss: 15051.5195 - val_mae: 95.9218\n",
      "Epoch 4/500\n",
      "434/434 [==============================] - 5s 11ms/step - loss: 14443.8555 - mae: 93.4639 - val_loss: 15621.1387 - val_mae: 97.7175\n",
      "Epoch 5/500\n",
      "434/434 [==============================] - 5s 11ms/step - loss: 14541.6016 - mae: 93.8315 - val_loss: 14647.1885 - val_mae: 97.3505\n",
      "Epoch 6/500\n",
      "434/434 [==============================] - 5s 11ms/step - loss: 14097.7432 - mae: 93.0734 - val_loss: 15668.4404 - val_mae: 94.7764\n",
      "Epoch 7/500\n",
      "434/434 [==============================] - 5s 11ms/step - loss: 14441.3662 - mae: 93.4218 - val_loss: 18524.3281 - val_mae: 105.3582\n",
      "Epoch 8/500\n",
      "434/434 [==============================] - 5s 11ms/step - loss: 14093.9814 - mae: 92.9415 - val_loss: 14154.7773 - val_mae: 94.4723\n",
      "Epoch 9/500\n",
      "434/434 [==============================] - 5s 11ms/step - loss: 13827.1279 - mae: 92.2865 - val_loss: 14452.7432 - val_mae: 97.4173\n",
      "Epoch 10/500\n",
      "434/434 [==============================] - 5s 12ms/step - loss: 13757.2451 - mae: 91.8995 - val_loss: 14237.1611 - val_mae: 94.3809\n",
      "Epoch 11/500\n",
      "434/434 [==============================] - 5s 11ms/step - loss: 13896.4775 - mae: 92.6723 - val_loss: 14103.5654 - val_mae: 93.6541\n",
      "Epoch 12/500\n",
      "434/434 [==============================] - 5s 10ms/step - loss: 13712.8203 - mae: 91.6661 - val_loss: 14191.9277 - val_mae: 94.6404\n",
      "Epoch 13/500\n",
      "434/434 [==============================] - 5s 11ms/step - loss: 13633.7168 - mae: 91.6888 - val_loss: 13930.7158 - val_mae: 93.7371\n",
      "Epoch 14/500\n",
      "434/434 [==============================] - 5s 11ms/step - loss: 13370.1230 - mae: 90.9318 - val_loss: 14258.5117 - val_mae: 92.2768\n",
      "Epoch 15/500\n",
      "434/434 [==============================] - 5s 12ms/step - loss: 13125.4590 - mae: 89.9239 - val_loss: 13928.6963 - val_mae: 90.5611\n",
      "Epoch 16/500\n",
      "434/434 [==============================] - 5s 11ms/step - loss: 12986.8701 - mae: 89.6939 - val_loss: 13980.5762 - val_mae: 92.6341\n",
      "Epoch 17/500\n",
      "434/434 [==============================] - 5s 11ms/step - loss: 13508.8457 - mae: 91.2086 - val_loss: 12861.4385 - val_mae: 90.1346\n",
      "Epoch 18/500\n",
      "434/434 [==============================] - 5s 11ms/step - loss: 12484.7666 - mae: 87.7103 - val_loss: 12392.9639 - val_mae: 85.2281\n",
      "Epoch 19/500\n",
      "434/434 [==============================] - 5s 11ms/step - loss: 11356.7764 - mae: 83.0425 - val_loss: 12037.4775 - val_mae: 81.5643\n",
      "Epoch 20/500\n",
      "434/434 [==============================] - 5s 11ms/step - loss: 11450.9697 - mae: 82.6873 - val_loss: 12037.5449 - val_mae: 83.8423\n",
      "Epoch 21/500\n",
      "434/434 [==============================] - 5s 11ms/step - loss: 10157.3867 - mae: 78.1959 - val_loss: 9637.3223 - val_mae: 78.8061\n",
      "Epoch 22/500\n",
      "434/434 [==============================] - 5s 11ms/step - loss: 9229.3174 - mae: 72.8757 - val_loss: 9362.0537 - val_mae: 77.0503\n",
      "Epoch 23/500\n",
      "434/434 [==============================] - 5s 11ms/step - loss: 9062.0488 - mae: 71.5121 - val_loss: 9255.0967 - val_mae: 72.7764\n",
      "Epoch 24/500\n",
      "434/434 [==============================] - 5s 11ms/step - loss: 8285.9502 - mae: 67.5906 - val_loss: 8610.8877 - val_mae: 70.1542\n",
      "Epoch 25/500\n",
      "434/434 [==============================] - 5s 11ms/step - loss: 7931.2788 - mae: 66.0049 - val_loss: 8262.2080 - val_mae: 62.7716\n",
      "Epoch 26/500\n",
      "434/434 [==============================] - 5s 11ms/step - loss: 7687.1958 - mae: 65.0694 - val_loss: 8520.3438 - val_mae: 73.3875\n",
      "Epoch 27/500\n",
      "434/434 [==============================] - 5s 11ms/step - loss: 7094.3774 - mae: 62.1961 - val_loss: 7771.7744 - val_mae: 66.3416\n",
      "Epoch 28/500\n",
      "434/434 [==============================] - 5s 11ms/step - loss: 6647.2427 - mae: 58.9155 - val_loss: 6862.7490 - val_mae: 63.6948\n",
      "Epoch 29/500\n",
      "434/434 [==============================] - 5s 11ms/step - loss: 6847.6157 - mae: 60.2322 - val_loss: 8323.3145 - val_mae: 63.7859\n",
      "Epoch 30/500\n",
      "434/434 [==============================] - 5s 11ms/step - loss: 6162.6606 - mae: 56.1104 - val_loss: 7596.9893 - val_mae: 54.8758\n",
      "Epoch 31/500\n",
      "434/434 [==============================] - 5s 11ms/step - loss: 6474.7515 - mae: 57.5616 - val_loss: 7716.1553 - val_mae: 55.6460\n",
      "Epoch 32/500\n",
      "434/434 [==============================] - 5s 11ms/step - loss: 5766.7261 - mae: 54.0321 - val_loss: 7105.4238 - val_mae: 51.8124\n",
      "Epoch 33/500\n",
      "434/434 [==============================] - 5s 11ms/step - loss: 5174.2803 - mae: 50.7075 - val_loss: 6560.4326 - val_mae: 54.9143\n",
      "Epoch 34/500\n",
      "434/434 [==============================] - 5s 11ms/step - loss: 5197.9771 - mae: 50.9704 - val_loss: 5902.2778 - val_mae: 47.8168\n",
      "Epoch 35/500\n",
      "434/434 [==============================] - 5s 11ms/step - loss: 5098.3213 - mae: 49.6686 - val_loss: 5270.0283 - val_mae: 47.0278\n",
      "Epoch 36/500\n",
      "434/434 [==============================] - 5s 11ms/step - loss: 4807.3071 - mae: 48.2915 - val_loss: 4927.8613 - val_mae: 45.4614\n",
      "Epoch 37/500\n",
      "434/434 [==============================] - 5s 12ms/step - loss: 4765.2969 - mae: 48.3248 - val_loss: 5023.2852 - val_mae: 48.8777\n",
      "Epoch 38/500\n",
      "434/434 [==============================] - 5s 12ms/step - loss: 4601.5864 - mae: 46.8636 - val_loss: 4940.3687 - val_mae: 51.0748\n",
      "Epoch 39/500\n",
      "434/434 [==============================] - 5s 11ms/step - loss: 4954.8330 - mae: 48.5919 - val_loss: 5651.8550 - val_mae: 54.0581\n",
      "Epoch 40/500\n",
      "434/434 [==============================] - 5s 11ms/step - loss: 4518.6104 - mae: 45.2800 - val_loss: 4770.6943 - val_mae: 45.3916\n",
      "Epoch 41/500\n",
      "434/434 [==============================] - 5s 11ms/step - loss: 4432.1333 - mae: 46.1224 - val_loss: 4828.0151 - val_mae: 47.0378\n",
      "Epoch 42/500\n",
      "434/434 [==============================] - 5s 11ms/step - loss: 4719.6899 - mae: 47.1201 - val_loss: 6668.4561 - val_mae: 56.5035\n",
      "Epoch 43/500\n",
      "434/434 [==============================] - 5s 11ms/step - loss: 4688.2461 - mae: 46.6166 - val_loss: 4479.3032 - val_mae: 46.0328\n",
      "Epoch 44/500\n",
      "434/434 [==============================] - 5s 11ms/step - loss: 4947.5283 - mae: 44.6784 - val_loss: 4244.1323 - val_mae: 44.4717\n",
      "Epoch 45/500\n",
      "434/434 [==============================] - 5s 11ms/step - loss: 4067.5833 - mae: 42.6926 - val_loss: 6923.6284 - val_mae: 60.6705\n",
      "Epoch 46/500\n",
      "434/434 [==============================] - 5s 11ms/step - loss: 4357.0469 - mae: 45.2074 - val_loss: 4081.9980 - val_mae: 43.4072\n",
      "Epoch 47/500\n",
      "434/434 [==============================] - 5s 11ms/step - loss: 4145.7671 - mae: 43.3338 - val_loss: 4002.8130 - val_mae: 40.3310\n",
      "Epoch 48/500\n",
      "434/434 [==============================] - 5s 11ms/step - loss: 3689.5435 - mae: 40.5442 - val_loss: 4546.3306 - val_mae: 47.7183\n",
      "Epoch 49/500\n",
      "434/434 [==============================] - 5s 11ms/step - loss: 3895.2163 - mae: 42.3075 - val_loss: 4047.1040 - val_mae: 41.8912\n",
      "Epoch 50/500\n",
      "434/434 [==============================] - 5s 11ms/step - loss: 3766.2302 - mae: 40.9006 - val_loss: 4182.2124 - val_mae: 40.4484\n",
      "Epoch 51/500\n",
      "434/434 [==============================] - 5s 11ms/step - loss: 3645.7056 - mae: 40.3690 - val_loss: 4652.0776 - val_mae: 48.9231\n",
      "Epoch 52/500\n",
      "434/434 [==============================] - 5s 11ms/step - loss: 3866.5249 - mae: 40.5802 - val_loss: 4236.1899 - val_mae: 40.2447\n",
      "Epoch 53/500\n",
      "434/434 [==============================] - 5s 11ms/step - loss: 3605.7156 - mae: 39.3795 - val_loss: 3748.0066 - val_mae: 36.0755\n",
      "Epoch 54/500\n",
      "434/434 [==============================] - 5s 11ms/step - loss: 3794.7893 - mae: 41.7027 - val_loss: 4521.7837 - val_mae: 45.1346\n",
      "Epoch 55/500\n",
      "434/434 [==============================] - 5s 11ms/step - loss: 3432.9758 - mae: 38.9722 - val_loss: 3913.7446 - val_mae: 42.1641\n",
      "Epoch 56/500\n",
      "434/434 [==============================] - 5s 12ms/step - loss: 3644.2124 - mae: 40.8264 - val_loss: 4418.3652 - val_mae: 41.0694\n",
      "Epoch 57/500\n",
      "434/434 [==============================] - 5s 12ms/step - loss: 3479.8992 - mae: 38.9740 - val_loss: 4006.3772 - val_mae: 43.4186\n",
      "Epoch 58/500\n",
      "434/434 [==============================] - 5s 11ms/step - loss: 3445.7163 - mae: 38.7153 - val_loss: 4119.0200 - val_mae: 45.7525\n",
      "Epoch 59/500\n",
      "434/434 [==============================] - 5s 12ms/step - loss: 3248.6406 - mae: 37.7692 - val_loss: 4446.4258 - val_mae: 44.2320\n",
      "Epoch 60/500\n",
      "434/434 [==============================] - 5s 11ms/step - loss: 3333.6240 - mae: 38.3366 - val_loss: 3542.1494 - val_mae: 36.1417\n",
      "Epoch 61/500\n",
      "434/434 [==============================] - 5s 11ms/step - loss: 3288.7612 - mae: 38.1792 - val_loss: 3395.6152 - val_mae: 33.6041\n",
      "Epoch 62/500\n",
      "434/434 [==============================] - 5s 11ms/step - loss: 3436.2339 - mae: 38.8716 - val_loss: 3775.8779 - val_mae: 38.9984\n",
      "Epoch 63/500\n",
      "434/434 [==============================] - 5s 11ms/step - loss: 3016.0056 - mae: 36.0962 - val_loss: 2960.7019 - val_mae: 31.9972\n",
      "Epoch 64/500\n",
      "434/434 [==============================] - 5s 12ms/step - loss: 3208.3630 - mae: 37.1130 - val_loss: 3591.5535 - val_mae: 40.4109\n",
      "Epoch 65/500\n",
      "434/434 [==============================] - 5s 11ms/step - loss: 3346.7114 - mae: 38.0143 - val_loss: 3544.0166 - val_mae: 35.8498\n",
      "Epoch 66/500\n",
      "434/434 [==============================] - 5s 11ms/step - loss: 4177.2412 - mae: 42.1669 - val_loss: 3872.8298 - val_mae: 41.9607\n",
      "Epoch 67/500\n",
      "434/434 [==============================] - 5s 12ms/step - loss: 3174.6152 - mae: 36.8441 - val_loss: 4203.1304 - val_mae: 39.9256\n",
      "Epoch 68/500\n",
      "434/434 [==============================] - 5s 12ms/step - loss: 2773.9033 - mae: 33.6591 - val_loss: 3725.8994 - val_mae: 41.6114\n",
      "Epoch 69/500\n",
      "434/434 [==============================] - 5s 11ms/step - loss: 2855.5359 - mae: 34.3905 - val_loss: 3083.3984 - val_mae: 35.1917\n",
      "Epoch 70/500\n",
      "434/434 [==============================] - 5s 12ms/step - loss: 2813.1279 - mae: 34.3479 - val_loss: 3313.7466 - val_mae: 35.1363\n",
      "Epoch 71/500\n",
      "434/434 [==============================] - 5s 12ms/step - loss: 2838.5637 - mae: 34.6032 - val_loss: 2896.1216 - val_mae: 31.7203\n",
      "Epoch 72/500\n",
      "434/434 [==============================] - 5s 11ms/step - loss: 3956.7551 - mae: 38.8467 - val_loss: 3911.2727 - val_mae: 43.1961\n",
      "Epoch 73/500\n",
      "434/434 [==============================] - 5s 11ms/step - loss: 2971.6885 - mae: 35.2504 - val_loss: 3139.0786 - val_mae: 34.4830\n",
      "Epoch 74/500\n",
      "434/434 [==============================] - 5s 12ms/step - loss: 2916.7209 - mae: 34.8454 - val_loss: 4379.1777 - val_mae: 41.9092\n",
      "Epoch 75/500\n",
      "434/434 [==============================] - 5s 11ms/step - loss: 2908.5459 - mae: 35.0204 - val_loss: 3153.0176 - val_mae: 36.6943\n",
      "Epoch 76/500\n",
      "434/434 [==============================] - 6s 14ms/step - loss: 3190.4390 - mae: 37.0863 - val_loss: 3591.8025 - val_mae: 40.7475\n",
      "Epoch 77/500\n",
      "434/434 [==============================] - 5s 11ms/step - loss: 2802.8269 - mae: 33.7831 - val_loss: 3337.4697 - val_mae: 32.3034\n",
      "Epoch 78/500\n",
      "434/434 [==============================] - 5s 11ms/step - loss: 2595.1194 - mae: 32.0941 - val_loss: 3525.7373 - val_mae: 37.8897\n",
      "Epoch 79/500\n",
      "434/434 [==============================] - 5s 11ms/step - loss: 2706.3101 - mae: 33.5273 - val_loss: 4274.1226 - val_mae: 44.9132\n",
      "Epoch 80/500\n",
      "434/434 [==============================] - 5s 12ms/step - loss: 2567.2009 - mae: 32.1164 - val_loss: 4959.1934 - val_mae: 49.7831\n",
      "Epoch 81/500\n",
      "434/434 [==============================] - 6s 13ms/step - loss: 2580.8730 - mae: 31.8294 - val_loss: 3000.1768 - val_mae: 32.4720\n",
      "Epoch 82/500\n",
      "434/434 [==============================] - 5s 12ms/step - loss: 2727.5879 - mae: 33.6535 - val_loss: 3622.0481 - val_mae: 37.3235\n",
      "Epoch 83/500\n",
      "434/434 [==============================] - 5s 11ms/step - loss: 2886.2827 - mae: 34.5523 - val_loss: 3215.6218 - val_mae: 34.1641\n",
      "Epoch 84/500\n",
      "434/434 [==============================] - 5s 12ms/step - loss: 2711.2751 - mae: 32.8935 - val_loss: 6511.0454 - val_mae: 55.6974\n",
      "Epoch 85/500\n",
      "434/434 [==============================] - 5s 12ms/step - loss: 2730.5107 - mae: 33.1763 - val_loss: 4024.3889 - val_mae: 33.2416\n",
      "Epoch 86/500\n",
      "434/434 [==============================] - 5s 12ms/step - loss: 2566.5659 - mae: 32.1406 - val_loss: 3266.3064 - val_mae: 33.0257\n",
      "Epoch 87/500\n",
      "434/434 [==============================] - 5s 10ms/step - loss: 2653.7576 - mae: 32.2819 - val_loss: 3058.8860 - val_mae: 35.7585\n",
      "Epoch 88/500\n",
      "434/434 [==============================] - 5s 11ms/step - loss: 2519.0112 - mae: 31.4118 - val_loss: 2665.8220 - val_mae: 30.5555\n",
      "Epoch 89/500\n",
      "434/434 [==============================] - 5s 11ms/step - loss: 2670.5920 - mae: 32.8885 - val_loss: 2870.2231 - val_mae: 33.3997\n",
      "Epoch 90/500\n",
      "434/434 [==============================] - 5s 11ms/step - loss: 2462.3152 - mae: 31.0396 - val_loss: 2600.8408 - val_mae: 31.0233\n",
      "Epoch 91/500\n",
      "434/434 [==============================] - 5s 12ms/step - loss: 2542.7102 - mae: 32.1569 - val_loss: 2861.2090 - val_mae: 29.8032\n",
      "Epoch 92/500\n",
      "434/434 [==============================] - 5s 11ms/step - loss: 2639.2417 - mae: 32.1503 - val_loss: 2845.5156 - val_mae: 32.9884\n",
      "Epoch 93/500\n",
      "434/434 [==============================] - 5s 12ms/step - loss: 2345.5471 - mae: 29.5837 - val_loss: 2793.8584 - val_mae: 33.0972\n",
      "Epoch 94/500\n",
      "434/434 [==============================] - 5s 11ms/step - loss: 2579.6692 - mae: 32.5176 - val_loss: 3323.5054 - val_mae: 35.5894\n",
      "Epoch 95/500\n",
      "434/434 [==============================] - 5s 11ms/step - loss: 2323.8259 - mae: 30.3375 - val_loss: 3797.9692 - val_mae: 42.5874\n",
      "Epoch 96/500\n",
      "434/434 [==============================] - 5s 11ms/step - loss: 2497.2810 - mae: 31.4457 - val_loss: 3102.4260 - val_mae: 36.5386\n",
      "Epoch 97/500\n",
      "434/434 [==============================] - 5s 11ms/step - loss: 2413.3413 - mae: 30.6322 - val_loss: 2324.4014 - val_mae: 26.7502\n",
      "Epoch 98/500\n",
      "434/434 [==============================] - 5s 11ms/step - loss: 2075.6936 - mae: 27.8163 - val_loss: 2694.9673 - val_mae: 27.6637\n",
      "Epoch 99/500\n",
      "434/434 [==============================] - 5s 11ms/step - loss: 2275.8188 - mae: 29.8213 - val_loss: 2433.1858 - val_mae: 27.5121\n",
      "Epoch 100/500\n",
      "434/434 [==============================] - 5s 11ms/step - loss: 2030.2563 - mae: 27.4858 - val_loss: 2435.3181 - val_mae: 28.7064\n",
      "Epoch 101/500\n",
      "434/434 [==============================] - 5s 12ms/step - loss: 2295.9985 - mae: 30.2178 - val_loss: 2502.7183 - val_mae: 27.4007\n",
      "Epoch 102/500\n",
      "434/434 [==============================] - 5s 12ms/step - loss: 2269.3938 - mae: 29.5060 - val_loss: 2271.0747 - val_mae: 28.4131\n",
      "Epoch 103/500\n",
      "434/434 [==============================] - 5s 12ms/step - loss: 2280.3315 - mae: 29.7141 - val_loss: 3698.5679 - val_mae: 34.3171\n",
      "Epoch 104/500\n",
      "434/434 [==============================] - 5s 11ms/step - loss: 2456.8479 - mae: 31.0681 - val_loss: 3216.4360 - val_mae: 33.3760\n",
      "Epoch 105/500\n",
      "434/434 [==============================] - 5s 12ms/step - loss: 4234.7422 - mae: 36.3956 - val_loss: 3160.8547 - val_mae: 38.6680\n",
      "Epoch 106/500\n",
      "434/434 [==============================] - 5s 12ms/step - loss: 2303.8411 - mae: 29.5879 - val_loss: 2240.9253 - val_mae: 27.4857\n",
      "Epoch 107/500\n",
      "434/434 [==============================] - 5s 12ms/step - loss: 2094.3323 - mae: 28.1143 - val_loss: 2755.5527 - val_mae: 30.9304\n",
      "Epoch 108/500\n",
      "434/434 [==============================] - 5s 11ms/step - loss: 2219.9819 - mae: 28.7969 - val_loss: 2361.7935 - val_mae: 29.7731\n",
      "Epoch 109/500\n",
      "434/434 [==============================] - 5s 11ms/step - loss: 2174.0264 - mae: 28.8830 - val_loss: 2330.8596 - val_mae: 23.2844\n",
      "Epoch 110/500\n",
      "434/434 [==============================] - 5s 11ms/step - loss: 2229.7278 - mae: 28.8234 - val_loss: 2341.0542 - val_mae: 29.0855\n",
      "Epoch 111/500\n",
      "434/434 [==============================] - 5s 11ms/step - loss: 2259.1677 - mae: 29.2048 - val_loss: 2540.2175 - val_mae: 28.9094\n",
      "Epoch 112/500\n",
      "434/434 [==============================] - 5s 12ms/step - loss: 2121.1421 - mae: 28.6063 - val_loss: 2388.2656 - val_mae: 24.1243\n",
      "Epoch 113/500\n",
      "434/434 [==============================] - 5s 11ms/step - loss: 2127.8801 - mae: 28.0193 - val_loss: 2651.0010 - val_mae: 29.1694\n",
      "Epoch 114/500\n",
      "434/434 [==============================] - 5s 11ms/step - loss: 2007.6460 - mae: 27.2967 - val_loss: 2263.7900 - val_mae: 23.3037\n",
      "Epoch 115/500\n",
      "434/434 [==============================] - 5s 12ms/step - loss: 2072.9761 - mae: 27.9453 - val_loss: 2903.8608 - val_mae: 34.1933\n",
      "Epoch 116/500\n",
      "434/434 [==============================] - 5s 13ms/step - loss: 2148.5481 - mae: 28.2265 - val_loss: 2488.9155 - val_mae: 30.8951\n",
      "Epoch 117/500\n",
      "434/434 [==============================] - 5s 12ms/step - loss: 2095.5811 - mae: 28.3166 - val_loss: 2916.9971 - val_mae: 34.4957\n",
      "Epoch 118/500\n",
      "434/434 [==============================] - 5s 12ms/step - loss: 2080.5874 - mae: 27.6637 - val_loss: 2610.4312 - val_mae: 31.5799\n",
      "Epoch 119/500\n",
      "434/434 [==============================] - 5s 12ms/step - loss: 2073.2505 - mae: 28.0576 - val_loss: 2196.1467 - val_mae: 26.8259\n",
      "Epoch 120/500\n",
      "434/434 [==============================] - 5s 11ms/step - loss: 2014.0159 - mae: 26.9513 - val_loss: 2154.4155 - val_mae: 26.4353\n",
      "Epoch 121/500\n",
      "434/434 [==============================] - 5s 11ms/step - loss: 2009.6956 - mae: 27.2664 - val_loss: 2469.4180 - val_mae: 30.1644\n",
      "Epoch 122/500\n",
      "434/434 [==============================] - 5s 11ms/step - loss: 2232.9519 - mae: 29.4582 - val_loss: 3428.5103 - val_mae: 40.1121\n",
      "Epoch 123/500\n",
      "434/434 [==============================] - 5s 11ms/step - loss: 2112.8984 - mae: 28.1712 - val_loss: 2716.5693 - val_mae: 28.9351\n",
      "Epoch 124/500\n",
      "434/434 [==============================] - 5s 11ms/step - loss: 2004.2844 - mae: 27.2418 - val_loss: 2038.6554 - val_mae: 25.1936\n",
      "Epoch 125/500\n",
      "434/434 [==============================] - 5s 11ms/step - loss: 1915.2888 - mae: 26.3959 - val_loss: 2323.7114 - val_mae: 30.3132\n",
      "Epoch 126/500\n",
      "434/434 [==============================] - 5s 11ms/step - loss: 2187.6216 - mae: 28.9321 - val_loss: 3560.6401 - val_mae: 38.6652\n",
      "Epoch 127/500\n",
      "434/434 [==============================] - 5s 11ms/step - loss: 2110.7454 - mae: 28.0551 - val_loss: 4337.4912 - val_mae: 47.9027\n",
      "Epoch 128/500\n",
      "434/434 [==============================] - 5s 11ms/step - loss: 2035.3370 - mae: 27.8365 - val_loss: 2224.9460 - val_mae: 25.7875\n",
      "Epoch 129/500\n",
      "434/434 [==============================] - 5s 11ms/step - loss: 1840.5736 - mae: 25.9150 - val_loss: 1981.0663 - val_mae: 25.3603\n",
      "Epoch 130/500\n",
      "434/434 [==============================] - 5s 11ms/step - loss: 1996.8394 - mae: 27.3449 - val_loss: 2446.5691 - val_mae: 28.3786\n",
      "Epoch 131/500\n",
      "434/434 [==============================] - 5s 10ms/step - loss: 2306.4348 - mae: 29.7489 - val_loss: 2874.1541 - val_mae: 30.3205\n",
      "Epoch 132/500\n",
      "434/434 [==============================] - 5s 10ms/step - loss: 1803.7822 - mae: 24.9215 - val_loss: 2221.7756 - val_mae: 23.9834\n",
      "Epoch 133/500\n",
      "434/434 [==============================] - 5s 12ms/step - loss: 1792.4365 - mae: 25.4159 - val_loss: 2112.4731 - val_mae: 25.8654\n",
      "Epoch 134/500\n",
      "434/434 [==============================] - 5s 11ms/step - loss: 1801.2554 - mae: 25.3293 - val_loss: 2057.5071 - val_mae: 26.6950\n",
      "Epoch 135/500\n",
      "434/434 [==============================] - 5s 12ms/step - loss: 1913.6721 - mae: 26.5101 - val_loss: 2833.0732 - val_mae: 27.1852\n",
      "Epoch 136/500\n",
      "434/434 [==============================] - 5s 12ms/step - loss: 1956.6208 - mae: 26.9819 - val_loss: 2990.6357 - val_mae: 37.3950\n",
      "Epoch 137/500\n",
      "434/434 [==============================] - 5s 10ms/step - loss: 1890.1704 - mae: 26.3096 - val_loss: 4637.6685 - val_mae: 46.5478\n",
      "Epoch 138/500\n",
      "434/434 [==============================] - 5s 11ms/step - loss: 2081.3040 - mae: 28.2472 - val_loss: 3158.2583 - val_mae: 36.9179\n",
      "Epoch 139/500\n",
      "434/434 [==============================] - 5s 11ms/step - loss: 1812.7487 - mae: 25.9179 - val_loss: 2203.7820 - val_mae: 23.8337\n",
      "Epoch 140/500\n",
      "434/434 [==============================] - 5s 10ms/step - loss: 1850.6185 - mae: 25.7241 - val_loss: 2338.5220 - val_mae: 29.6432\n",
      "Epoch 141/500\n",
      "434/434 [==============================] - 5s 11ms/step - loss: 1890.6038 - mae: 26.2145 - val_loss: 2575.0737 - val_mae: 30.5171\n",
      "Epoch 142/500\n",
      "434/434 [==============================] - 5s 11ms/step - loss: 1827.3363 - mae: 25.9275 - val_loss: 2726.5544 - val_mae: 35.1836\n",
      "Epoch 143/500\n",
      "434/434 [==============================] - 5s 11ms/step - loss: 1841.2637 - mae: 25.5793 - val_loss: 2302.0654 - val_mae: 29.0080\n",
      "Epoch 144/500\n",
      "434/434 [==============================] - 5s 12ms/step - loss: 1811.7542 - mae: 25.4598 - val_loss: 1959.0208 - val_mae: 23.1972\n",
      "Epoch 145/500\n",
      "434/434 [==============================] - 5s 12ms/step - loss: 1823.1121 - mae: 25.4631 - val_loss: 3828.7673 - val_mae: 41.4350\n",
      "Epoch 146/500\n",
      "434/434 [==============================] - 5s 11ms/step - loss: 1913.9166 - mae: 26.8875 - val_loss: 2171.7495 - val_mae: 28.0938\n",
      "Epoch 147/500\n",
      "434/434 [==============================] - 5s 11ms/step - loss: 1733.4658 - mae: 24.9486 - val_loss: 2510.3696 - val_mae: 27.5948\n",
      "Epoch 148/500\n",
      "434/434 [==============================] - 5s 11ms/step - loss: 1890.3180 - mae: 25.9751 - val_loss: 2094.0984 - val_mae: 26.2907\n",
      "Epoch 149/500\n",
      "434/434 [==============================] - 5s 11ms/step - loss: 1859.2048 - mae: 25.9004 - val_loss: 2573.8423 - val_mae: 28.4056\n",
      "Epoch 150/500\n",
      "434/434 [==============================] - 5s 11ms/step - loss: 1874.5908 - mae: 26.5627 - val_loss: 2437.4666 - val_mae: 27.3301\n",
      "Epoch 151/500\n",
      "434/434 [==============================] - 5s 11ms/step - loss: 1829.1229 - mae: 25.6615 - val_loss: 2097.2126 - val_mae: 28.0421\n",
      "Epoch 152/500\n",
      "434/434 [==============================] - 5s 11ms/step - loss: 1871.4418 - mae: 25.8163 - val_loss: 2144.7119 - val_mae: 28.9810\n",
      "Epoch 153/500\n",
      "434/434 [==============================] - 5s 11ms/step - loss: 1751.8462 - mae: 25.1234 - val_loss: 2516.7957 - val_mae: 29.1599\n",
      "Epoch 154/500\n",
      "434/434 [==============================] - 5s 11ms/step - loss: 1701.5696 - mae: 24.6953 - val_loss: 1818.3218 - val_mae: 23.8474\n",
      "Epoch 155/500\n",
      "434/434 [==============================] - 5s 11ms/step - loss: 1794.8055 - mae: 25.4703 - val_loss: 2886.4143 - val_mae: 34.5585\n",
      "Epoch 156/500\n",
      "434/434 [==============================] - 5s 11ms/step - loss: 1786.9318 - mae: 25.3540 - val_loss: 3019.1030 - val_mae: 32.0878\n",
      "Epoch 157/500\n",
      "434/434 [==============================] - 5s 11ms/step - loss: 1921.7705 - mae: 27.3518 - val_loss: 1822.9480 - val_mae: 23.5958\n",
      "Epoch 158/500\n",
      "434/434 [==============================] - 5s 11ms/step - loss: 1679.6630 - mae: 24.2146 - val_loss: 1921.3298 - val_mae: 23.2410\n",
      "Epoch 159/500\n",
      "434/434 [==============================] - 5s 11ms/step - loss: 1739.3066 - mae: 25.0524 - val_loss: 2230.1919 - val_mae: 28.0090\n",
      "Epoch 160/500\n",
      "434/434 [==============================] - 5s 11ms/step - loss: 1739.1656 - mae: 24.8706 - val_loss: 2070.8625 - val_mae: 24.7521\n",
      "Epoch 161/500\n",
      "434/434 [==============================] - 5s 11ms/step - loss: 1628.8304 - mae: 23.7939 - val_loss: 2629.3164 - val_mae: 27.6298\n",
      "Epoch 162/500\n",
      "434/434 [==============================] - 5s 12ms/step - loss: 1630.9987 - mae: 24.1342 - val_loss: 2845.4141 - val_mae: 29.2282\n",
      "Epoch 163/500\n",
      "434/434 [==============================] - 5s 12ms/step - loss: 1726.9786 - mae: 24.8036 - val_loss: 1910.6985 - val_mae: 21.5465\n",
      "Epoch 164/500\n",
      "434/434 [==============================] - 5s 11ms/step - loss: 2039.2563 - mae: 27.4005 - val_loss: 3508.8545 - val_mae: 37.2496\n",
      "Epoch 165/500\n",
      "434/434 [==============================] - 5s 11ms/step - loss: 1755.0265 - mae: 25.2547 - val_loss: 2778.5366 - val_mae: 27.5423\n",
      "Epoch 166/500\n",
      "434/434 [==============================] - 5s 11ms/step - loss: 1601.6492 - mae: 24.0922 - val_loss: 2084.6685 - val_mae: 25.8883\n",
      "Epoch 167/500\n",
      "434/434 [==============================] - 5s 11ms/step - loss: 1580.6639 - mae: 23.8830 - val_loss: 1945.7192 - val_mae: 24.3505\n",
      "Epoch 168/500\n",
      "434/434 [==============================] - 5s 11ms/step - loss: 1614.2896 - mae: 23.6361 - val_loss: 1955.9504 - val_mae: 26.2031\n",
      "Epoch 169/500\n",
      "434/434 [==============================] - 5s 12ms/step - loss: 1658.5975 - mae: 23.7639 - val_loss: 2186.7817 - val_mae: 25.5131\n",
      "Epoch 170/500\n",
      "434/434 [==============================] - 5s 13ms/step - loss: 1710.2118 - mae: 25.0208 - val_loss: 1897.7189 - val_mae: 23.6921\n",
      "Epoch 171/500\n",
      "434/434 [==============================] - 5s 11ms/step - loss: 1529.8673 - mae: 22.8849 - val_loss: 1716.9812 - val_mae: 21.7100\n",
      "Epoch 172/500\n",
      "434/434 [==============================] - 5s 11ms/step - loss: 1599.5356 - mae: 23.5312 - val_loss: 1719.2623 - val_mae: 21.2843\n",
      "Epoch 173/500\n",
      "434/434 [==============================] - 5s 11ms/step - loss: 1557.7167 - mae: 23.2353 - val_loss: 1744.2722 - val_mae: 22.3737\n",
      "Epoch 174/500\n",
      "434/434 [==============================] - 4s 10ms/step - loss: 1890.4371 - mae: 26.5661 - val_loss: 2363.3611 - val_mae: 28.7980\n",
      "Epoch 175/500\n",
      "434/434 [==============================] - 5s 11ms/step - loss: 1829.7131 - mae: 25.8948 - val_loss: 1848.2920 - val_mae: 23.1254\n",
      "Epoch 176/500\n",
      "434/434 [==============================] - 5s 10ms/step - loss: 1521.0101 - mae: 22.6710 - val_loss: 2608.1682 - val_mae: 31.7526\n",
      "Epoch 177/500\n",
      "434/434 [==============================] - 5s 11ms/step - loss: 1561.0592 - mae: 23.7427 - val_loss: 2383.5249 - val_mae: 29.9842\n",
      "Epoch 178/500\n",
      "434/434 [==============================] - 5s 11ms/step - loss: 1728.2852 - mae: 25.0481 - val_loss: 1928.0469 - val_mae: 24.7812\n",
      "Epoch 179/500\n",
      "434/434 [==============================] - 5s 11ms/step - loss: 1530.7283 - mae: 22.9167 - val_loss: 1965.0914 - val_mae: 26.5871\n",
      "Epoch 180/500\n",
      "434/434 [==============================] - 5s 11ms/step - loss: 1640.6942 - mae: 23.6443 - val_loss: 2793.8994 - val_mae: 30.7293\n",
      "Epoch 181/500\n",
      "434/434 [==============================] - 5s 11ms/step - loss: 1593.9349 - mae: 23.5036 - val_loss: 2622.7200 - val_mae: 32.6563\n",
      "Epoch 182/500\n",
      "434/434 [==============================] - 5s 11ms/step - loss: 1656.7798 - mae: 24.3134 - val_loss: 1900.7021 - val_mae: 23.9092\n",
      "Epoch 183/500\n",
      "434/434 [==============================] - 5s 11ms/step - loss: 1690.9170 - mae: 24.3222 - val_loss: 1830.9581 - val_mae: 22.4821\n",
      "Epoch 184/500\n",
      "434/434 [==============================] - 5s 12ms/step - loss: 1515.4177 - mae: 22.2810 - val_loss: 1571.4778 - val_mae: 20.8648\n",
      "Epoch 185/500\n",
      "434/434 [==============================] - 5s 11ms/step - loss: 1614.8445 - mae: 23.6874 - val_loss: 1760.5168 - val_mae: 24.8767\n",
      "Epoch 186/500\n",
      "434/434 [==============================] - 5s 11ms/step - loss: 1523.3119 - mae: 22.8975 - val_loss: 2057.7397 - val_mae: 28.1451\n",
      "Epoch 187/500\n",
      "434/434 [==============================] - 5s 12ms/step - loss: 1465.9005 - mae: 22.2440 - val_loss: 2540.2908 - val_mae: 33.5116\n",
      "Epoch 188/500\n",
      "434/434 [==============================] - 6s 13ms/step - loss: 1486.4681 - mae: 22.3173 - val_loss: 1877.7295 - val_mae: 23.5990\n",
      "Epoch 189/500\n",
      "434/434 [==============================] - 5s 11ms/step - loss: 1691.5312 - mae: 24.7024 - val_loss: 4099.6284 - val_mae: 38.9373\n",
      "Epoch 190/500\n",
      "434/434 [==============================] - 5s 12ms/step - loss: 1681.4056 - mae: 24.4907 - val_loss: 1727.6001 - val_mae: 23.6884\n",
      "Epoch 191/500\n",
      "434/434 [==============================] - 5s 12ms/step - loss: 1478.2716 - mae: 22.0938 - val_loss: 1973.0244 - val_mae: 26.9334\n",
      "Epoch 192/500\n",
      "434/434 [==============================] - 5s 11ms/step - loss: 1611.8977 - mae: 23.8844 - val_loss: 1989.7241 - val_mae: 25.8450\n",
      "Epoch 193/500\n",
      "434/434 [==============================] - 5s 12ms/step - loss: 1538.6600 - mae: 23.1447 - val_loss: 2803.8337 - val_mae: 29.3224\n",
      "Epoch 194/500\n",
      "434/434 [==============================] - 5s 12ms/step - loss: 1358.1166 - mae: 21.0230 - val_loss: 2534.3904 - val_mae: 32.2629\n",
      "Epoch 195/500\n",
      "434/434 [==============================] - 5s 12ms/step - loss: 1611.3400 - mae: 23.9872 - val_loss: 2452.9558 - val_mae: 27.5475\n",
      "Epoch 196/500\n",
      "434/434 [==============================] - 5s 12ms/step - loss: 1447.5966 - mae: 22.1069 - val_loss: 2844.8811 - val_mae: 35.4233\n",
      "Epoch 197/500\n",
      "434/434 [==============================] - 5s 11ms/step - loss: 1444.6659 - mae: 22.0341 - val_loss: 1864.3032 - val_mae: 21.5791\n",
      "Epoch 198/500\n",
      "434/434 [==============================] - 5s 11ms/step - loss: 1402.4738 - mae: 22.0645 - val_loss: 1715.8864 - val_mae: 21.0734\n",
      "Epoch 199/500\n",
      "434/434 [==============================] - 5s 11ms/step - loss: 1558.8375 - mae: 23.5056 - val_loss: 1728.7278 - val_mae: 20.4885\n",
      "Epoch 200/500\n",
      "434/434 [==============================] - 5s 12ms/step - loss: 1404.6754 - mae: 21.5812 - val_loss: 1697.6863 - val_mae: 21.7682\n",
      "Epoch 201/500\n",
      "434/434 [==============================] - 5s 12ms/step - loss: 1580.7697 - mae: 23.4352 - val_loss: 1579.6769 - val_mae: 20.4355\n",
      "Epoch 202/500\n",
      "434/434 [==============================] - 5s 11ms/step - loss: 1420.0922 - mae: 22.0501 - val_loss: 2319.4275 - val_mae: 29.9411\n",
      "Epoch 203/500\n",
      "434/434 [==============================] - 5s 11ms/step - loss: 1325.4690 - mae: 20.8851 - val_loss: 2435.9802 - val_mae: 26.6335\n",
      "Epoch 204/500\n",
      "434/434 [==============================] - 5s 12ms/step - loss: 1586.8326 - mae: 23.7648 - val_loss: 1720.2162 - val_mae: 23.7979\n",
      "Restoring model weights from the end of the best epoch.\n",
      "Epoch 00204: early stopping\n"
     ]
    }
   ],
   "source": [
    "# Early stopping with a predefined patience\n",
    "early_stopping = keras.callbacks.EarlyStopping(\n",
    "    monitor='val_loss', \n",
    "    patience=early_stopping_patience,\n",
    "    restore_best_weights=True,\n",
    "    verbose=True\n",
    ")\n",
    "\n",
    "# Training the model\n",
    "history = model.fit(\n",
    "    X_train, \n",
    "    Y_train,\n",
    "    epochs=epochs,\n",
    "    batch_size=batch_size,\n",
    "    validation_split=validation_split,\n",
    "    shuffle=True,\n",
    "    verbose=1,\n",
    "    callbacks=[early_stopping]\n",
    ")"
   ]
  },
  {
   "cell_type": "code",
   "execution_count": 16,
   "metadata": {},
   "outputs": [],
   "source": [
    "# Function to plot the metrics of training and validation\n",
    "def plotHistory(history, training_metric, validation_metric, ylabel):\n",
    "  plt.plot(history.history[training_metric], label=training_metric)\n",
    "  plt.plot(history.history[validation_metric], label=validation_metric)\n",
    "  plt.ylim([0, np.max(history.history[training_metric] + history.history[validation_metric])])\n",
    "  plt.xlabel('Epoch')\n",
    "  plt.ylabel(ylabel)\n",
    "  plt.grid(True)\n",
    "  plt.legend()\n",
    "  plt.show()"
   ]
  },
  {
   "cell_type": "code",
   "execution_count": 17,
   "metadata": {},
   "outputs": [
    {
     "data": {
      "image/png": "[encoded data removed]",
      "text/plain": [
       "<Figure size 432x288 with 1 Axes>"
      ]
     },
     "metadata": {
      "needs_background": "light"
     },
     "output_type": "display_data"
    },
    {
     "data": {
      "image/png": "[encoded data removed]",
      "text/plain": [
       "<Figure size 432x288 with 1 Axes>"
      ]
     },
     "metadata": {
      "needs_background": "light"
     },
     "output_type": "display_data"
    }
   ],
   "source": [
    "plotHistory(history, 'loss', 'val_loss', \"Loss\")\n",
    "plotHistory(history, 'mae', 'val_mae', \"Mean Absolute Error\")"
   ]
  },
  {
   "cell_type": "markdown",
   "metadata": {},
   "source": [
    "### Model evaluation"
   ]
  },
  {
   "cell_type": "code",
   "execution_count": 18,
   "metadata": {},
   "outputs": [],
   "source": [
    "# Computing the predictions of the test set\n",
    "predictions = model.predict(X_test)"
   ]
  },
  {
   "cell_type": "code",
   "execution_count": 19,
   "metadata": {},
   "outputs": [],
   "source": [
    "def regressionMetrics(predictions, labels):\n",
    "    # Creating an array to save the results\n",
    "    mses, maes = np.zeros(np.shape(Y)[1]), np.zeros(np.shape(Y)[1])\n",
    "\n",
    "    # Computing the Mean absolute error\n",
    "    for idx in range(np.shape(Y)[1]):\n",
    "        # Computing the Mean Absolute Error of the current NACA number\n",
    "        mae = np.mean(np.absolute(predictions[:,idx] - labels[:,idx]))\n",
    "        mse = ((predictions[:,idx] - labels[:,idx])**2).mean(axis=0)\n",
    "\n",
    "        # Adding the result to the array\n",
    "        mses[idx], maes[idx] = mse, mae\n",
    "\n",
    "    return mses, maes"
   ]
  },
  {
   "cell_type": "code",
   "execution_count": 20,
   "metadata": {},
   "outputs": [
    {
     "name": "stdout",
     "output_type": "stream",
     "text": [
      "REGRESSION\n",
      " - Loss (Mean Square Error) --> 1272.9601478181894\n",
      " - Mean Absolute Error --> 19.04588042625249\n",
      "   • x --> MSE: 1124.1714622341774 | MAE: 18.059139617577504\n",
      "   • y --> MSE: 1421.7488334022014 | MAE: 20.03262123492748\n"
     ]
    }
   ],
   "source": [
    "# Computing the regression errors: MSE and MAE\n",
    "mse, mae = regressionMetrics(predictions, Y_test)\n",
    "\n",
    "print(\"REGRESSION\")\n",
    "print(f\" - Loss (Mean Square Error) --> {np.mean(mse)}\")\n",
    "print(f\" - Mean Absolute Error --> {np.mean(mae)}\")\n",
    "for i in range(len(labels)):\n",
    "    print(f\"   • {labels[i]} --> MSE: {mse[i]} | MAE: {mae[i]}\")\n"
   ]
  },
  {
   "cell_type": "code",
   "execution_count": 21,
   "metadata": {},
   "outputs": [],
   "source": [
    "\n",
    "# Function to plot the predicted values\n",
    "def plotPredictions(test_labels, test_predictions, min_value, max_value, label, color):\n",
    "  plt.scatter(test_labels, test_predictions, label=label, color=color)\n",
    "  plt.xlabel('True values')\n",
    "  plt.ylabel('Predictions')\n",
    "  plt.axis('equal')\n",
    "  plt.axis('square')\n",
    "  plt.xlim([min_value, max_value])\n",
    "  plt.ylim([min_value, max_value])\n",
    "  plt.plot([min_value, max_value], [min_value, max_value], color=\"black\")\n",
    "  plt.legend()"
   ]
  },
  {
   "cell_type": "code",
   "execution_count": 22,
   "metadata": {},
   "outputs": [
    {
     "data": {
      "image/png": "[encoded data removed]",
      "text/plain": [
       "<Figure size 576x396 with 1 Axes>"
      ]
     },
     "metadata": {},
     "output_type": "display_data"
    }
   ],
   "source": [
    "colors = [\"blue\", \"green\", \"orange\"]\n",
    "max_value = np.max(Y_test.flatten())\n",
    "min_value = np.min(Y_test.flatten())\n",
    "\n",
    "plt.style.use('seaborn')\n",
    "\n",
    "# Plotting the obtained results\n",
    "for i in range(np.shape(Y)[1]):\n",
    "  plotPredictions(Y_test[:,i], predictions[:,i], min_value, max_value, label=labels[i], color=colors[i])"
   ]
  }
 ],
 "metadata": {
  "interpreter": {
   "hash": "4bd624a0593993fe43ac4046b27b898fb2ef75c21c08f81e89e64ea0f51df676"
  },
  "kernelspec": {
   "display_name": "Python 3.9.12 ('tensorflow')",
   "language": "python",
   "name": "python3"
  },
  "language_info": {
   "codemirror_mode": {
    "name": "ipython",
    "version": 3
   },
   "file_extension": ".py",
   "mimetype": "text/x-python",
   "name": "python",
   "nbconvert_exporter": "python",
   "pygments_lexer": "ipython3",
   "version": "3.9.13"
  },
  "orig_nbformat": 4
 },
 "nbformat": 4,
 "nbformat_minor": 2
}
