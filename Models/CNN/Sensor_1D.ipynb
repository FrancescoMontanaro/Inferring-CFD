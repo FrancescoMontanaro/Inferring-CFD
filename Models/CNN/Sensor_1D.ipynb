{
 "cells": [
  {
   "cell_type": "code",
   "execution_count": 200,
   "metadata": {},
   "outputs": [],
   "source": [
    "import random\n",
    "import numpy as np\n",
    "import tensorflow as tf\n",
    "from tensorflow import keras\n",
    "import matplotlib.pyplot as plt"
   ]
  },
  {
   "cell_type": "markdown",
   "metadata": {},
   "source": [
    "### Constants and hyperparameters"
   ]
  },
  {
   "cell_type": "code",
   "execution_count": 201,
   "metadata": {},
   "outputs": [],
   "source": [
    "epochs = 500 # Number of training epochs\n",
    "batch_size = 12 # Batch size\n",
    "split_percentage = 0.8 # Training and test set splitting percentage\n",
    "validation_split = 0.2 # Validation set percentage\n",
    "early_stopping_patience = 20 # Number of epochs of patience before triggering early stopping"
   ]
  },
  {
   "cell_type": "code",
   "execution_count": 202,
   "metadata": {},
   "outputs": [],
   "source": [
    "dataset_path = \"../Dataset/Sensors/Parallel/Multiple Naca/parallel_section__100_bins__multiple_naca__y.npz\" # Dataset path\n",
    "labels = [\"y\"] # Name of the labels\n",
    "flow_field = \"p\" # Flow quantity to be used as input feature"
   ]
  },
  {
   "cell_type": "markdown",
   "metadata": {},
   "source": [
    "### Data loading"
   ]
  },
  {
   "cell_type": "code",
   "execution_count": 203,
   "metadata": {},
   "outputs": [],
   "source": [
    "# Loading the data\n",
    "dataset = np.load(dataset_path)\n",
    "dataset = list(zip(dataset[flow_field], *[dataset[label] for label in labels]))"
   ]
  },
  {
   "cell_type": "code",
   "execution_count": 204,
   "metadata": {},
   "outputs": [],
   "source": [
    "#dataset = [sample for sample in dataset if sample[2] <= -50 or sample[2] >= 50]"
   ]
  },
  {
   "cell_type": "code",
   "execution_count": 205,
   "metadata": {},
   "outputs": [
    {
     "name": "stdout",
     "output_type": "stream",
     "text": [
      "12000\n"
     ]
    }
   ],
   "source": [
    "print(len(dataset))"
   ]
  },
  {
   "cell_type": "markdown",
   "metadata": {},
   "source": [
    "### Shuffling the dataset"
   ]
  },
  {
   "cell_type": "code",
   "execution_count": 206,
   "metadata": {},
   "outputs": [],
   "source": [
    "# Shuffling the dataset\n",
    "np.random.shuffle(dataset)"
   ]
  },
  {
   "cell_type": "markdown",
   "metadata": {},
   "source": [
    "### Features and labels"
   ]
  },
  {
   "cell_type": "code",
   "execution_count": 207,
   "metadata": {},
   "outputs": [],
   "source": [
    "# Extracting the features and the labels from the dataset\n",
    "X, *Y = zip(*dataset)\n",
    "X, Y = np.array(X), np.array(Y).T"
   ]
  },
  {
   "cell_type": "markdown",
   "metadata": {},
   "source": [
    "### Training and test set"
   ]
  },
  {
   "cell_type": "code",
   "execution_count": 208,
   "metadata": {},
   "outputs": [],
   "source": [
    "# Computing the number of training samples according to the splitting percentage\n",
    "num_training_samples = int(np.floor(split_percentage * len(dataset)))"
   ]
  },
  {
   "cell_type": "code",
   "execution_count": 209,
   "metadata": {},
   "outputs": [],
   "source": [
    "# Extracting the training features and labels\n",
    "X_train = np.expand_dims(X[:num_training_samples], axis=2)\n",
    "Y_train = Y[:num_training_samples]\n",
    "\n",
    "# Extracting the test features and labels\n",
    "X_test = np.expand_dims(X[num_training_samples:], axis=2)\n",
    "Y_test = Y[num_training_samples:]"
   ]
  },
  {
   "cell_type": "markdown",
   "metadata": {},
   "source": [
    "### Data normalization"
   ]
  },
  {
   "cell_type": "code",
   "execution_count": 210,
   "metadata": {},
   "outputs": [],
   "source": [
    "# Computing the mean and standard deviation of the training features\n",
    "mean = X_train.mean(axis=0)\n",
    "std = X_train.std(axis=0)"
   ]
  },
  {
   "cell_type": "code",
   "execution_count": 211,
   "metadata": {},
   "outputs": [],
   "source": [
    "# Function to normalize the features\n",
    "def normalize(x):\n",
    "    x = (x - mean) / std\n",
    "    return x"
   ]
  },
  {
   "cell_type": "code",
   "execution_count": 212,
   "metadata": {},
   "outputs": [
    {
     "data": {
      "image/png": "[encoded data removed]",
      "text/plain": [
       "<Figure size 576x396 with 1 Axes>"
      ]
     },
     "metadata": {},
     "output_type": "display_data"
    }
   ],
   "source": [
    "# Plotting a random sample\n",
    "choice = np.random.randint(0, (len(X_train)-1))\n",
    "plt.title(f'{\"\".join([(labels[i] + \": \" + str(Y_train[choice][i]) + (\" | \" if i < len(labels) - 1 else \"\")) for i in range(len(labels))])}')\n",
    "plt.ylabel(flow_field)\n",
    "plt.plot(X_train[choice])\n",
    "plt.show()"
   ]
  },
  {
   "cell_type": "markdown",
   "metadata": {},
   "source": [
    "### Building the model"
   ]
  },
  {
   "cell_type": "code",
   "execution_count": 213,
   "metadata": {},
   "outputs": [],
   "source": [
    "\n",
    "# BEST MODEL FOR SECTIONS X = [-1c, 2c]\n",
    "def buildModel():\n",
    "  # Sequential model - CNN 1D\n",
    "  model = keras.Sequential([\n",
    "    keras.layers.InputLayer(input_shape=np.shape(X_train)[1:]),\n",
    "    keras.layers.Lambda(normalize), # Normalization layer\n",
    "    keras.layers.Conv1D(filters=24, kernel_size=3, activation=tf.nn.tanh, padding=\"same\"),\n",
    "    keras.layers.MaxPool1D(pool_size=2),\n",
    "    keras.layers.Flatten(),\n",
    "    keras.layers.Dense(60, tf.nn.tanh),\n",
    "    keras.layers.Dense(30, tf.nn.tanh),\n",
    "    keras.layers.Dense(30, tf.nn.tanh),\n",
    "    keras.layers.Dense(30, tf.nn.tanh),\n",
    "    keras.layers.Dense(np.shape(Y)[1])\n",
    "  ])\n",
    "\n",
    "  # Compiling the model\n",
    "  model.compile(loss='mse', optimizer=\"adam\", metrics=['mae'])\n",
    "  \n",
    "  return model"
   ]
  },
  {
   "cell_type": "code",
   "execution_count": 214,
   "metadata": {},
   "outputs": [],
   "source": [
    "\n",
    "# BEST MODEL FOR SECTION X = 11c\n",
    "def buildModel2():\n",
    "  # Sequential model - CNN 1D\n",
    "  model = keras.Sequential([\n",
    "    keras.layers.InputLayer(input_shape=np.shape(X_train)[1:]),\n",
    "    keras.layers.Lambda(normalize), # Normalization layer\n",
    "    keras.layers.Conv1D(filters=12, kernel_size=3, activation=tf.nn.tanh),\n",
    "    keras.layers.MaxPool1D(pool_size=2),\n",
    "    keras.layers.Conv1D(filters=8, kernel_size=3, activation=tf.nn.tanh),\n",
    "    keras.layers.MaxPool1D(pool_size=2),\n",
    "    keras.layers.Flatten(),\n",
    "    keras.layers.Dense(30, tf.nn.tanh),\n",
    "    keras.layers.Dense(20, tf.nn.tanh),\n",
    "    keras.layers.Dense(10, tf.nn.tanh),\n",
    "    keras.layers.Dense(np.shape(Y)[1])\n",
    "  ])\n",
    "\n",
    "  # Compiling the model\n",
    "  model.compile(loss='mse', optimizer='adam', metrics=['mae'])\n",
    "  \n",
    "  return model"
   ]
  },
  {
   "cell_type": "code",
   "execution_count": 215,
   "metadata": {},
   "outputs": [
    {
     "name": "stdout",
     "output_type": "stream",
     "text": [
      "Model: \"sequential_8\"\n",
      "_________________________________________________________________\n",
      "Layer (type)                 Output Shape              Param #   \n",
      "=================================================================\n",
      "lambda_8 (Lambda)            (None, 100, 1)            0         \n",
      "_________________________________________________________________\n",
      "conv1d_8 (Conv1D)            (None, 100, 24)           96        \n",
      "_________________________________________________________________\n",
      "max_pooling1d_8 (MaxPooling1 (None, 50, 24)            0         \n",
      "_________________________________________________________________\n",
      "flatten_8 (Flatten)          (None, 1200)              0         \n",
      "_________________________________________________________________\n",
      "dense_40 (Dense)             (None, 60)                72060     \n",
      "_________________________________________________________________\n",
      "dense_41 (Dense)             (None, 30)                1830      \n",
      "_________________________________________________________________\n",
      "dense_42 (Dense)             (None, 30)                930       \n",
      "_________________________________________________________________\n",
      "dense_43 (Dense)             (None, 30)                930       \n",
      "_________________________________________________________________\n",
      "dense_44 (Dense)             (None, 1)                 31        \n",
      "=================================================================\n",
      "Total params: 75,877\n",
      "Trainable params: 75,877\n",
      "Non-trainable params: 0\n",
      "_________________________________________________________________\n"
     ]
    }
   ],
   "source": [
    "model = buildModel()\n",
    "model.summary()"
   ]
  },
  {
   "cell_type": "markdown",
   "metadata": {},
   "source": [
    "### Model training"
   ]
  },
  {
   "cell_type": "code",
   "execution_count": 216,
   "metadata": {},
   "outputs": [
    {
     "name": "stdout",
     "output_type": "stream",
     "text": [
      "Epoch 1/500\n",
      "640/640 [==============================] - 5s 7ms/step - loss: 90442.6484 - mae: 256.4684 - val_loss: 85356.1875 - val_mae: 247.1700\n",
      "Epoch 2/500\n",
      "640/640 [==============================] - 4s 6ms/step - loss: 81611.5469 - mae: 240.1581 - val_loss: 76814.5547 - val_mae: 231.5646\n",
      "Epoch 3/500\n",
      "640/640 [==============================] - 4s 6ms/step - loss: 73767.5391 - mae: 225.6954 - val_loss: 69305.6250 - val_mae: 217.7010\n",
      "Epoch 4/500\n",
      "640/640 [==============================] - 4s 6ms/step - loss: 66358.1719 - mae: 212.3612 - val_loss: 62543.8789 - val_mae: 205.1571\n",
      "Epoch 5/500\n",
      "640/640 [==============================] - 4s 7ms/step - loss: 61011.8242 - mae: 201.7126 - val_loss: 58522.6680 - val_mae: 196.4013\n",
      "Epoch 6/500\n",
      "640/640 [==============================] - 4s 7ms/step - loss: 55622.5586 - mae: 191.5231 - val_loss: 52912.8242 - val_mae: 185.9548\n",
      "Epoch 7/500\n",
      "640/640 [==============================] - 4s 7ms/step - loss: 49612.9414 - mae: 181.3034 - val_loss: 46900.9102 - val_mae: 176.0073\n",
      "Epoch 8/500\n",
      "640/640 [==============================] - 4s 7ms/step - loss: 45135.4727 - mae: 173.1388 - val_loss: 42854.5625 - val_mae: 168.3615\n",
      "Epoch 9/500\n",
      "640/640 [==============================] - 4s 7ms/step - loss: 41353.9219 - mae: 166.0805 - val_loss: 39362.0781 - val_mae: 161.6271\n",
      "Epoch 10/500\n",
      "640/640 [==============================] - 4s 6ms/step - loss: 38150.7305 - mae: 160.1470 - val_loss: 36444.1562 - val_mae: 156.0783\n",
      "Epoch 11/500\n",
      "640/640 [==============================] - 4s 7ms/step - loss: 35485.6953 - mae: 155.1514 - val_loss: 34033.1055 - val_mae: 151.5032\n",
      "Epoch 12/500\n",
      "640/640 [==============================] - 4s 7ms/step - loss: 33322.0898 - mae: 151.0974 - val_loss: 32105.0254 - val_mae: 147.8078\n",
      "Epoch 13/500\n",
      "640/640 [==============================] - 4s 7ms/step - loss: 31622.9355 - mae: 147.9707 - val_loss: 30618.9102 - val_mae: 144.9172\n",
      "Epoch 14/500\n",
      "640/640 [==============================] - 4s 7ms/step - loss: 30343.7305 - mae: 145.6346 - val_loss: 29529.8086 - val_mae: 142.8309\n",
      "Epoch 15/500\n",
      "640/640 [==============================] - 4s 6ms/step - loss: 29414.5703 - mae: 143.8507 - val_loss: 28746.8125 - val_mae: 141.3558\n",
      "Epoch 16/500\n",
      "640/640 [==============================] - 4s 7ms/step - loss: 28772.0664 - mae: 142.6564 - val_loss: 28216.7832 - val_mae: 140.4086\n",
      "Epoch 17/500\n",
      "640/640 [==============================] - 4s 6ms/step - loss: 28367.0605 - mae: 141.8571 - val_loss: 27887.5508 - val_mae: 139.8238\n",
      "Epoch 18/500\n",
      "640/640 [==============================] - 4s 7ms/step - loss: 28126.5469 - mae: 141.3707 - val_loss: 27656.5156 - val_mae: 139.4645\n",
      "Epoch 19/500\n",
      "640/640 [==============================] - 4s 7ms/step - loss: 27990.2148 - mae: 141.0436 - val_loss: 27460.9844 - val_mae: 139.1736\n",
      "Epoch 20/500\n",
      "640/640 [==============================] - 4s 7ms/step - loss: 27595.0508 - mae: 140.4611 - val_loss: 27138.4961 - val_mae: 138.8123\n",
      "Epoch 21/500\n",
      "640/640 [==============================] - 4s 7ms/step - loss: 30873.3477 - mae: 143.9740 - val_loss: 30314.9160 - val_mae: 142.5150\n",
      "Epoch 22/500\n",
      "640/640 [==============================] - 4s 7ms/step - loss: 29690.4336 - mae: 142.5624 - val_loss: 31369.9336 - val_mae: 143.5004\n",
      "Epoch 23/500\n",
      "640/640 [==============================] - 4s 7ms/step - loss: 29516.1777 - mae: 142.2084 - val_loss: 31115.0684 - val_mae: 143.2446\n",
      "Epoch 24/500\n",
      "640/640 [==============================] - 4s 6ms/step - loss: 29508.6758 - mae: 142.4482 - val_loss: 26938.2363 - val_mae: 138.5315\n",
      "Epoch 25/500\n",
      "640/640 [==============================] - 4s 7ms/step - loss: 28103.4023 - mae: 140.8839 - val_loss: 26618.2852 - val_mae: 138.0822\n",
      "Epoch 26/500\n",
      "640/640 [==============================] - 4s 6ms/step - loss: 26772.6211 - mae: 137.8175 - val_loss: 20284.8477 - val_mae: 104.8659\n",
      "Epoch 27/500\n",
      "640/640 [==============================] - 4s 7ms/step - loss: 21012.8926 - mae: 109.9918 - val_loss: 17978.7129 - val_mae: 103.7928\n",
      "Epoch 28/500\n",
      "640/640 [==============================] - 4s 6ms/step - loss: 18251.5410 - mae: 102.6848 - val_loss: 15857.3564 - val_mae: 91.0155\n",
      "Epoch 29/500\n",
      "640/640 [==============================] - 4s 6ms/step - loss: 16661.7559 - mae: 94.5385 - val_loss: 17678.8867 - val_mae: 89.9305\n",
      "Epoch 30/500\n",
      "640/640 [==============================] - 4s 6ms/step - loss: 17629.5078 - mae: 97.1816 - val_loss: 15984.6553 - val_mae: 87.6776\n",
      "Epoch 31/500\n",
      "640/640 [==============================] - 4s 6ms/step - loss: 15221.7422 - mae: 89.2503 - val_loss: 14309.4150 - val_mae: 86.3515\n",
      "Epoch 32/500\n",
      "640/640 [==============================] - 4s 6ms/step - loss: 14269.7705 - mae: 86.0347 - val_loss: 13701.2686 - val_mae: 89.1824\n",
      "Epoch 33/500\n",
      "640/640 [==============================] - 4s 6ms/step - loss: 13678.2363 - mae: 84.0432 - val_loss: 12951.2939 - val_mae: 81.4328\n",
      "Epoch 34/500\n",
      "640/640 [==============================] - 4s 6ms/step - loss: 17060.6035 - mae: 86.6129 - val_loss: 13488.5645 - val_mae: 81.1220\n",
      "Epoch 35/500\n",
      "640/640 [==============================] - 4s 6ms/step - loss: 13581.7373 - mae: 81.9903 - val_loss: 11960.1455 - val_mae: 78.2460\n",
      "Epoch 36/500\n",
      "640/640 [==============================] - 4s 7ms/step - loss: 12936.0234 - mae: 81.0985 - val_loss: 11762.2969 - val_mae: 75.4214\n",
      "Epoch 37/500\n",
      "640/640 [==============================] - 4s 6ms/step - loss: 12991.4883 - mae: 79.7640 - val_loss: 11576.2295 - val_mae: 77.1114\n",
      "Epoch 38/500\n",
      "640/640 [==============================] - 4s 6ms/step - loss: 13596.4307 - mae: 80.4430 - val_loss: 10803.7031 - val_mae: 73.0832\n",
      "Epoch 39/500\n",
      "640/640 [==============================] - 4s 6ms/step - loss: 12223.5947 - mae: 77.2594 - val_loss: 10575.1641 - val_mae: 69.7051\n",
      "Epoch 40/500\n",
      "640/640 [==============================] - 4s 6ms/step - loss: 11871.6768 - mae: 75.4129 - val_loss: 10129.9766 - val_mae: 69.1519\n",
      "Epoch 41/500\n",
      "640/640 [==============================] - 4s 7ms/step - loss: 11528.2324 - mae: 74.3045 - val_loss: 9796.8760 - val_mae: 69.1114\n",
      "Epoch 42/500\n",
      "640/640 [==============================] - 4s 7ms/step - loss: 11024.0508 - mae: 71.8881 - val_loss: 10512.1318 - val_mae: 73.8002\n",
      "Epoch 43/500\n",
      "640/640 [==============================] - 4s 7ms/step - loss: 11344.6143 - mae: 71.8110 - val_loss: 10996.6738 - val_mae: 71.2292\n",
      "Epoch 44/500\n",
      "640/640 [==============================] - 4s 7ms/step - loss: 10938.6650 - mae: 70.4423 - val_loss: 9394.4346 - val_mae: 67.2879\n",
      "Epoch 45/500\n",
      "640/640 [==============================] - 4s 6ms/step - loss: 10773.6934 - mae: 69.0817 - val_loss: 9582.2568 - val_mae: 69.3599\n",
      "Epoch 46/500\n",
      "640/640 [==============================] - 4s 7ms/step - loss: 10647.1602 - mae: 68.4214 - val_loss: 9532.1543 - val_mae: 66.2461\n",
      "Epoch 47/500\n",
      "640/640 [==============================] - 4s 6ms/step - loss: 10576.8213 - mae: 67.8542 - val_loss: 8848.0459 - val_mae: 61.8630\n",
      "Epoch 48/500\n",
      "640/640 [==============================] - 4s 6ms/step - loss: 10475.1924 - mae: 67.0660 - val_loss: 9216.7695 - val_mae: 64.6971\n",
      "Epoch 49/500\n",
      "640/640 [==============================] - 4s 7ms/step - loss: 10575.8623 - mae: 66.5874 - val_loss: 9039.1455 - val_mae: 62.2260\n",
      "Epoch 50/500\n",
      "640/640 [==============================] - 4s 7ms/step - loss: 10478.1279 - mae: 66.0276 - val_loss: 9154.1221 - val_mae: 65.4541\n",
      "Epoch 51/500\n",
      "640/640 [==============================] - 4s 6ms/step - loss: 10154.4727 - mae: 65.4375 - val_loss: 8992.6758 - val_mae: 61.7770\n",
      "Epoch 52/500\n",
      "640/640 [==============================] - 4s 6ms/step - loss: 10286.2617 - mae: 65.1348 - val_loss: 9131.9473 - val_mae: 65.9333\n",
      "Epoch 53/500\n",
      "640/640 [==============================] - 4s 6ms/step - loss: 10048.9277 - mae: 64.3343 - val_loss: 8669.9111 - val_mae: 60.7282\n",
      "Epoch 54/500\n",
      "640/640 [==============================] - 4s 6ms/step - loss: 10078.9502 - mae: 63.5602 - val_loss: 8724.4648 - val_mae: 58.8734\n",
      "Epoch 55/500\n",
      "640/640 [==============================] - 4s 6ms/step - loss: 9957.4150 - mae: 63.6901 - val_loss: 9329.0957 - val_mae: 61.5673\n",
      "Epoch 56/500\n",
      "640/640 [==============================] - 4s 6ms/step - loss: 10205.4414 - mae: 64.5966 - val_loss: 9708.5430 - val_mae: 66.3271\n",
      "Epoch 57/500\n",
      "640/640 [==============================] - 4s 6ms/step - loss: 10575.1553 - mae: 64.6984 - val_loss: 9073.8203 - val_mae: 59.2669\n",
      "Epoch 58/500\n",
      "640/640 [==============================] - 4s 6ms/step - loss: 10452.8311 - mae: 65.1740 - val_loss: 8662.8350 - val_mae: 60.5801\n",
      "Epoch 59/500\n",
      "640/640 [==============================] - 4s 6ms/step - loss: 10037.5488 - mae: 63.6503 - val_loss: 8567.0811 - val_mae: 61.4112\n",
      "Epoch 60/500\n",
      "640/640 [==============================] - 4s 6ms/step - loss: 9778.4668 - mae: 63.0594 - val_loss: 8519.0889 - val_mae: 58.4641\n",
      "Epoch 61/500\n",
      "640/640 [==============================] - 4s 6ms/step - loss: 9753.9346 - mae: 62.4995 - val_loss: 10037.7129 - val_mae: 59.3779\n",
      "Epoch 62/500\n",
      "640/640 [==============================] - 4s 6ms/step - loss: 10014.3477 - mae: 63.6021 - val_loss: 8999.5918 - val_mae: 62.9687\n",
      "Epoch 63/500\n",
      "640/640 [==============================] - 4s 6ms/step - loss: 9999.2559 - mae: 63.3342 - val_loss: 9839.8789 - val_mae: 69.0148\n",
      "Epoch 64/500\n",
      "640/640 [==============================] - 4s 6ms/step - loss: 9754.8525 - mae: 63.1797 - val_loss: 8752.0547 - val_mae: 60.5809\n",
      "Epoch 65/500\n",
      "640/640 [==============================] - 4s 6ms/step - loss: 9918.2920 - mae: 62.8389 - val_loss: 8753.1016 - val_mae: 64.6781\n",
      "Epoch 66/500\n",
      "640/640 [==============================] - 4s 6ms/step - loss: 9635.1465 - mae: 61.8584 - val_loss: 8524.4004 - val_mae: 57.8338\n",
      "Epoch 67/500\n",
      "640/640 [==============================] - 4s 6ms/step - loss: 9963.7725 - mae: 62.7285 - val_loss: 9052.6738 - val_mae: 59.3937\n",
      "Epoch 68/500\n",
      "640/640 [==============================] - 4s 6ms/step - loss: 9690.0283 - mae: 61.4855 - val_loss: 8850.4756 - val_mae: 57.8408\n",
      "Epoch 69/500\n",
      "640/640 [==============================] - 4s 6ms/step - loss: 9457.9053 - mae: 61.0886 - val_loss: 9630.3574 - val_mae: 57.0271\n",
      "Epoch 70/500\n",
      "640/640 [==============================] - 4s 6ms/step - loss: 9797.9229 - mae: 62.0523 - val_loss: 8669.1699 - val_mae: 61.4798\n",
      "Epoch 71/500\n",
      "640/640 [==============================] - 4s 7ms/step - loss: 9458.1104 - mae: 60.7426 - val_loss: 8162.3237 - val_mae: 58.0909\n",
      "Epoch 72/500\n",
      "640/640 [==============================] - 4s 7ms/step - loss: 9455.0645 - mae: 60.4759 - val_loss: 7902.8530 - val_mae: 54.4183\n",
      "Epoch 73/500\n",
      "640/640 [==============================] - 4s 7ms/step - loss: 9496.3604 - mae: 60.8936 - val_loss: 8692.7744 - val_mae: 58.7780\n",
      "Epoch 74/500\n",
      "640/640 [==============================] - 4s 6ms/step - loss: 9288.0420 - mae: 60.4435 - val_loss: 8701.0166 - val_mae: 61.1117\n",
      "Epoch 75/500\n",
      "640/640 [==============================] - 4s 6ms/step - loss: 9883.6865 - mae: 61.8101 - val_loss: 8463.8105 - val_mae: 57.9725\n",
      "Epoch 76/500\n",
      "640/640 [==============================] - 4s 6ms/step - loss: 9475.4736 - mae: 60.8434 - val_loss: 7756.2695 - val_mae: 55.5954\n",
      "Epoch 77/500\n",
      "640/640 [==============================] - 4s 6ms/step - loss: 9230.5967 - mae: 59.9837 - val_loss: 8516.8379 - val_mae: 55.5519\n",
      "Epoch 78/500\n",
      "640/640 [==============================] - 4s 6ms/step - loss: 9355.7158 - mae: 58.8412 - val_loss: 7746.2988 - val_mae: 56.1693\n",
      "Epoch 79/500\n",
      "640/640 [==============================] - 4s 6ms/step - loss: 9631.8398 - mae: 61.6570 - val_loss: 10707.5342 - val_mae: 69.4202\n",
      "Epoch 80/500\n",
      "640/640 [==============================] - 4s 6ms/step - loss: 9790.8574 - mae: 62.2713 - val_loss: 8125.6089 - val_mae: 56.5264\n",
      "Epoch 81/500\n",
      "640/640 [==============================] - 4s 6ms/step - loss: 9461.2256 - mae: 61.0928 - val_loss: 8486.0098 - val_mae: 58.3016\n",
      "Epoch 82/500\n",
      "640/640 [==============================] - 4s 6ms/step - loss: 9506.0811 - mae: 61.4247 - val_loss: 8318.5215 - val_mae: 57.4539\n",
      "Epoch 83/500\n",
      "640/640 [==============================] - 4s 6ms/step - loss: 9305.5127 - mae: 59.3338 - val_loss: 7813.9531 - val_mae: 56.3350\n",
      "Epoch 84/500\n",
      "640/640 [==============================] - 4s 6ms/step - loss: 9045.0723 - mae: 58.3617 - val_loss: 7577.8691 - val_mae: 53.6691\n",
      "Epoch 85/500\n",
      "640/640 [==============================] - 4s 6ms/step - loss: 9009.2500 - mae: 58.4605 - val_loss: 9989.6748 - val_mae: 67.1136\n",
      "Epoch 86/500\n",
      "640/640 [==============================] - 4s 6ms/step - loss: 9548.1787 - mae: 60.4131 - val_loss: 7561.3198 - val_mae: 53.7710\n",
      "Epoch 87/500\n",
      "640/640 [==============================] - 4s 6ms/step - loss: 9072.8330 - mae: 58.2422 - val_loss: 7316.5625 - val_mae: 54.4644\n",
      "Epoch 88/500\n",
      "640/640 [==============================] - 4s 6ms/step - loss: 8823.3867 - mae: 58.4078 - val_loss: 7798.0508 - val_mae: 57.5001\n",
      "Epoch 89/500\n",
      "640/640 [==============================] - 4s 6ms/step - loss: 8744.8633 - mae: 58.1159 - val_loss: 6825.5625 - val_mae: 50.3154\n",
      "Epoch 90/500\n",
      "640/640 [==============================] - 4s 6ms/step - loss: 9120.1865 - mae: 59.3707 - val_loss: 7736.2661 - val_mae: 51.1882\n",
      "Epoch 91/500\n",
      "640/640 [==============================] - 4s 6ms/step - loss: 8847.7334 - mae: 56.7113 - val_loss: 7005.9263 - val_mae: 51.0305\n",
      "Epoch 92/500\n",
      "640/640 [==============================] - 4s 6ms/step - loss: 8528.9111 - mae: 55.9956 - val_loss: 9959.8457 - val_mae: 66.5563\n",
      "Epoch 93/500\n",
      "640/640 [==============================] - 4s 6ms/step - loss: 9107.6123 - mae: 59.5670 - val_loss: 7696.9321 - val_mae: 56.6769\n",
      "Epoch 94/500\n",
      "640/640 [==============================] - 4s 6ms/step - loss: 8786.7246 - mae: 57.3075 - val_loss: 7791.1377 - val_mae: 57.7222\n",
      "Epoch 95/500\n",
      "640/640 [==============================] - 4s 6ms/step - loss: 8532.1738 - mae: 56.0952 - val_loss: 6339.7471 - val_mae: 48.7625\n",
      "Epoch 96/500\n",
      "640/640 [==============================] - 4s 6ms/step - loss: 8250.3496 - mae: 56.1421 - val_loss: 7884.9780 - val_mae: 55.1948\n",
      "Epoch 97/500\n",
      "640/640 [==============================] - 4s 6ms/step - loss: 8337.8613 - mae: 55.7107 - val_loss: 6625.6875 - val_mae: 50.7024\n",
      "Epoch 98/500\n",
      "640/640 [==============================] - 4s 6ms/step - loss: 8401.7715 - mae: 55.9696 - val_loss: 7027.7295 - val_mae: 50.0637\n",
      "Epoch 99/500\n",
      "640/640 [==============================] - 4s 6ms/step - loss: 8587.6631 - mae: 56.2540 - val_loss: 6467.1450 - val_mae: 47.7554\n",
      "Epoch 100/500\n",
      "640/640 [==============================] - 4s 6ms/step - loss: 8102.4482 - mae: 54.0695 - val_loss: 8801.4473 - val_mae: 56.1890\n",
      "Epoch 101/500\n",
      "640/640 [==============================] - 4s 6ms/step - loss: 8323.2559 - mae: 55.9715 - val_loss: 7211.5791 - val_mae: 52.9466\n",
      "Epoch 102/500\n",
      "640/640 [==============================] - 4s 6ms/step - loss: 9209.4561 - mae: 59.5069 - val_loss: 6716.3887 - val_mae: 50.8322\n",
      "Epoch 103/500\n",
      "640/640 [==============================] - 4s 6ms/step - loss: 8575.3164 - mae: 56.2147 - val_loss: 7104.2446 - val_mae: 53.3170\n",
      "Epoch 104/500\n",
      "640/640 [==============================] - 4s 6ms/step - loss: 8150.8223 - mae: 55.2172 - val_loss: 6417.6040 - val_mae: 49.6383\n",
      "Epoch 105/500\n",
      "640/640 [==============================] - 4s 6ms/step - loss: 8504.4199 - mae: 55.2821 - val_loss: 8181.6221 - val_mae: 56.2155\n",
      "Epoch 106/500\n",
      "640/640 [==============================] - 4s 6ms/step - loss: 8143.3389 - mae: 54.8531 - val_loss: 7856.7910 - val_mae: 57.7114\n",
      "Epoch 107/500\n",
      "640/640 [==============================] - 4s 6ms/step - loss: 8493.4316 - mae: 56.5720 - val_loss: 6110.1167 - val_mae: 45.6942\n",
      "Epoch 108/500\n",
      "640/640 [==============================] - 4s 6ms/step - loss: 7972.0605 - mae: 54.2288 - val_loss: 6243.4844 - val_mae: 48.0974\n",
      "Epoch 109/500\n",
      "640/640 [==============================] - 4s 6ms/step - loss: 8238.2500 - mae: 54.8422 - val_loss: 8818.1904 - val_mae: 64.9857\n",
      "Epoch 110/500\n",
      "640/640 [==============================] - 4s 6ms/step - loss: 8915.4463 - mae: 58.4565 - val_loss: 7349.3921 - val_mae: 53.0223\n",
      "Epoch 111/500\n",
      "640/640 [==============================] - 4s 6ms/step - loss: 7841.1514 - mae: 54.0788 - val_loss: 6255.6211 - val_mae: 47.0327\n",
      "Epoch 112/500\n",
      "640/640 [==============================] - 4s 6ms/step - loss: 8601.2373 - mae: 57.8450 - val_loss: 7697.4785 - val_mae: 52.4919\n",
      "Epoch 113/500\n",
      "640/640 [==============================] - 4s 6ms/step - loss: 8256.0332 - mae: 54.9595 - val_loss: 6893.0493 - val_mae: 48.6584\n",
      "Epoch 114/500\n",
      "640/640 [==============================] - 4s 6ms/step - loss: 7643.5967 - mae: 52.7703 - val_loss: 7847.5376 - val_mae: 56.9534\n",
      "Epoch 115/500\n",
      "640/640 [==============================] - 4s 6ms/step - loss: 8165.7271 - mae: 55.4126 - val_loss: 10692.3721 - val_mae: 72.5336\n",
      "Epoch 116/500\n",
      "640/640 [==============================] - 4s 6ms/step - loss: 7692.9526 - mae: 53.5909 - val_loss: 7139.7285 - val_mae: 53.4184\n",
      "Epoch 117/500\n",
      "640/640 [==============================] - 4s 6ms/step - loss: 7781.2354 - mae: 53.0738 - val_loss: 7386.0493 - val_mae: 56.2197\n",
      "Epoch 118/500\n",
      "640/640 [==============================] - 4s 6ms/step - loss: 8546.5371 - mae: 56.6000 - val_loss: 8183.8433 - val_mae: 62.1771\n",
      "Epoch 119/500\n",
      "640/640 [==============================] - 4s 6ms/step - loss: 8386.6445 - mae: 57.0606 - val_loss: 7265.7275 - val_mae: 51.9977\n",
      "Epoch 120/500\n",
      "640/640 [==============================] - 4s 6ms/step - loss: 7456.0537 - mae: 53.0116 - val_loss: 6138.0688 - val_mae: 49.4647\n",
      "Epoch 121/500\n",
      "640/640 [==============================] - 4s 6ms/step - loss: 8886.0908 - mae: 57.1776 - val_loss: 8480.2188 - val_mae: 56.2666\n",
      "Epoch 122/500\n",
      "640/640 [==============================] - 4s 6ms/step - loss: 9348.1084 - mae: 60.7072 - val_loss: 7901.1724 - val_mae: 54.2270\n",
      "Epoch 123/500\n",
      "640/640 [==============================] - 4s 6ms/step - loss: 8241.0752 - mae: 54.7502 - val_loss: 7714.5898 - val_mae: 56.8983\n",
      "Epoch 124/500\n",
      "640/640 [==============================] - 4s 6ms/step - loss: 7737.4087 - mae: 54.1504 - val_loss: 7025.1553 - val_mae: 55.4030\n",
      "Epoch 125/500\n",
      "640/640 [==============================] - 4s 6ms/step - loss: 7803.1685 - mae: 54.9366 - val_loss: 6941.4434 - val_mae: 50.6151\n",
      "Epoch 126/500\n",
      "640/640 [==============================] - 4s 6ms/step - loss: 7670.4116 - mae: 54.2096 - val_loss: 5294.2974 - val_mae: 44.9502\n",
      "Epoch 127/500\n",
      "640/640 [==============================] - 4s 6ms/step - loss: 7905.3711 - mae: 54.4909 - val_loss: 7283.2690 - val_mae: 55.8191\n",
      "Epoch 128/500\n",
      "640/640 [==============================] - 4s 6ms/step - loss: 7296.5806 - mae: 51.8368 - val_loss: 6886.5288 - val_mae: 52.5685\n",
      "Epoch 129/500\n",
      "640/640 [==============================] - 4s 6ms/step - loss: 7619.4150 - mae: 54.0651 - val_loss: 6461.4150 - val_mae: 49.2615\n",
      "Epoch 130/500\n",
      "640/640 [==============================] - 4s 6ms/step - loss: 8627.7578 - mae: 55.8386 - val_loss: 8394.9492 - val_mae: 51.0984\n",
      "Epoch 131/500\n",
      "640/640 [==============================] - 4s 6ms/step - loss: 7920.7720 - mae: 53.6982 - val_loss: 6475.0210 - val_mae: 47.9906\n",
      "Epoch 132/500\n",
      "640/640 [==============================] - 4s 6ms/step - loss: 8331.9785 - mae: 54.6058 - val_loss: 6677.7749 - val_mae: 50.9158\n",
      "Epoch 133/500\n",
      "640/640 [==============================] - 4s 6ms/step - loss: 8190.5596 - mae: 55.1130 - val_loss: 8399.4414 - val_mae: 54.3423\n",
      "Epoch 134/500\n",
      "640/640 [==============================] - 4s 6ms/step - loss: 7686.6470 - mae: 52.8806 - val_loss: 6447.8394 - val_mae: 50.8356\n",
      "Epoch 135/500\n",
      "640/640 [==============================] - 4s 6ms/step - loss: 7705.0347 - mae: 54.5913 - val_loss: 5776.7759 - val_mae: 46.6565\n",
      "Epoch 136/500\n",
      "640/640 [==============================] - 4s 6ms/step - loss: 8665.2344 - mae: 58.9247 - val_loss: 7618.7764 - val_mae: 55.2273\n",
      "Epoch 137/500\n",
      "640/640 [==============================] - 4s 6ms/step - loss: 9216.9785 - mae: 60.9382 - val_loss: 7440.1367 - val_mae: 56.6804\n",
      "Epoch 138/500\n",
      "640/640 [==============================] - 4s 6ms/step - loss: 9045.8984 - mae: 59.8383 - val_loss: 6851.6719 - val_mae: 52.5628\n",
      "Epoch 139/500\n",
      "640/640 [==============================] - 4s 6ms/step - loss: 8122.1011 - mae: 56.4851 - val_loss: 6431.4800 - val_mae: 51.6016\n",
      "Epoch 140/500\n",
      "640/640 [==============================] - 4s 6ms/step - loss: 7911.1157 - mae: 55.2043 - val_loss: 6167.0879 - val_mae: 50.0790\n",
      "Epoch 141/500\n",
      "640/640 [==============================] - 4s 6ms/step - loss: 7299.6860 - mae: 52.6546 - val_loss: 5729.9346 - val_mae: 47.8159\n",
      "Epoch 142/500\n",
      "640/640 [==============================] - 4s 6ms/step - loss: 9381.1973 - mae: 61.0265 - val_loss: 7959.1123 - val_mae: 60.2973\n",
      "Epoch 143/500\n",
      "640/640 [==============================] - 4s 6ms/step - loss: 8995.9912 - mae: 59.8552 - val_loss: 6609.3940 - val_mae: 49.3691\n",
      "Epoch 144/500\n",
      "640/640 [==============================] - 4s 6ms/step - loss: 7816.6240 - mae: 55.0745 - val_loss: 7132.4229 - val_mae: 53.3527\n",
      "Epoch 145/500\n",
      "640/640 [==============================] - 4s 6ms/step - loss: 8486.6533 - mae: 57.7913 - val_loss: 10264.8135 - val_mae: 61.7038\n",
      "Epoch 146/500\n",
      "640/640 [==============================] - 4s 6ms/step - loss: 7598.9287 - mae: 55.0076 - val_loss: 6130.3872 - val_mae: 47.8238\n",
      "Restoring model weights from the end of the best epoch.\n",
      "Epoch 00146: early stopping\n"
     ]
    }
   ],
   "source": [
    "# Early stopping with a predefined patience\n",
    "early_stopping = keras.callbacks.EarlyStopping(\n",
    "    monitor='val_loss', \n",
    "    patience=early_stopping_patience,\n",
    "    restore_best_weights=True,\n",
    "    verbose=True\n",
    ")\n",
    "\n",
    "# Training the model\n",
    "history = model.fit(\n",
    "    X_train, \n",
    "    Y_train,\n",
    "    epochs=epochs,\n",
    "    batch_size=batch_size,\n",
    "    validation_split=validation_split,\n",
    "    shuffle=True,\n",
    "    verbose=1,\n",
    "    callbacks=[early_stopping]\n",
    ")"
   ]
  },
  {
   "cell_type": "code",
   "execution_count": 217,
   "metadata": {},
   "outputs": [],
   "source": [
    "# Function to plot the metrics of training and validation\n",
    "def plotHistory(history, training_metric, validation_metric, ylabel):\n",
    "  plt.plot(history.history[training_metric], label=training_metric)\n",
    "  plt.plot(history.history[validation_metric], label=validation_metric)\n",
    "  plt.ylim([0, np.max(history.history[training_metric] + history.history[validation_metric])])\n",
    "  plt.xlabel('Epoch')\n",
    "  plt.ylabel(ylabel)\n",
    "  plt.grid(True)\n",
    "  plt.legend()\n",
    "  plt.show()"
   ]
  },
  {
   "cell_type": "code",
   "execution_count": 218,
   "metadata": {},
   "outputs": [
    {
     "data": {
      "image/png": "[encoded data removed]",
      "text/plain": [
       "<Figure size 576x396 with 1 Axes>"
      ]
     },
     "metadata": {},
     "output_type": "display_data"
    },
    {
     "data": {
      "image/png": "[encoded data removed]",
      "text/plain": [
       "<Figure size 576x396 with 1 Axes>"
      ]
     },
     "metadata": {},
     "output_type": "display_data"
    }
   ],
   "source": [
    "plotHistory(history, 'loss', 'val_loss', \"Loss\")\n",
    "plotHistory(history, 'mae', 'val_mae', \"Mean Absolute Error\")"
   ]
  },
  {
   "cell_type": "markdown",
   "metadata": {},
   "source": [
    "### Model evaluation"
   ]
  },
  {
   "cell_type": "code",
   "execution_count": 219,
   "metadata": {},
   "outputs": [],
   "source": [
    "# Computing the predictions of the test set\n",
    "predictions = model.predict(X_test)"
   ]
  },
  {
   "cell_type": "code",
   "execution_count": 220,
   "metadata": {},
   "outputs": [],
   "source": [
    "def regressionMetrics(predictions, labels):\n",
    "    # Creating an array to save the results\n",
    "    mses, maes = np.zeros(np.shape(Y)[1]), np.zeros(np.shape(Y)[1])\n",
    "\n",
    "    # Computing the Mean absolute error\n",
    "    for idx in range(np.shape(Y)[1]):\n",
    "        # Computing the Mean Absolute Error of the current NACA number\n",
    "        mae = np.mean(np.absolute(predictions[:,idx] - labels[:,idx]))\n",
    "        mse = ((predictions[:,idx] - labels[:,idx])**2).mean(axis=0)\n",
    "\n",
    "        # Adding the result to the array\n",
    "        mses[idx], maes[idx] = mse, mae\n",
    "\n",
    "    return mses, maes"
   ]
  },
  {
   "cell_type": "code",
   "execution_count": 221,
   "metadata": {},
   "outputs": [
    {
     "name": "stdout",
     "output_type": "stream",
     "text": [
      "REGRESSION\n",
      " - Loss (Mean Square Error) --> 6359.177694270325\n",
      " - Mean Absolute Error --> 48.72071062039175\n",
      "   • y --> MSE: 6359.177694270325 | MAE: 48.72071062039175\n"
     ]
    }
   ],
   "source": [
    "# Computing the regression errors: MSE and MAE\n",
    "mse, mae = regressionMetrics(predictions, Y_test)\n",
    "\n",
    "print(\"REGRESSION\")\n",
    "print(f\" - Loss (Mean Square Error) --> {np.mean(mse)}\")\n",
    "print(f\" - Mean Absolute Error --> {np.mean(mae)}\")\n",
    "for i in range(len(labels)):\n",
    "    print(f\"   • {labels[i]} --> MSE: {mse[i]} | MAE: {mae[i]}\")\n"
   ]
  },
  {
   "cell_type": "code",
   "execution_count": 222,
   "metadata": {},
   "outputs": [],
   "source": [
    "\n",
    "# Function to plot the predicted values\n",
    "def plotPredictions(test_labels, test_predictions, min_value, max_value, label, color):\n",
    "  plt.scatter(test_labels, test_predictions, label=label, color=color)\n",
    "  plt.xlabel('True values')\n",
    "  plt.ylabel('Predictions')\n",
    "  plt.axis('equal')\n",
    "  plt.axis('square')\n",
    "  plt.xlim([min_value, max_value])\n",
    "  plt.ylim([min_value, max_value])\n",
    "  plt.plot([min_value, max_value], [min_value, max_value], color=\"black\")\n",
    "  plt.legend()"
   ]
  },
  {
   "cell_type": "code",
   "execution_count": 223,
   "metadata": {},
   "outputs": [
    {
     "data": {
      "image/png": "[encoded data removed]",
      "text/plain": [
       "<Figure size 576x396 with 1 Axes>"
      ]
     },
     "metadata": {},
     "output_type": "display_data"
    }
   ],
   "source": [
    "colors = [\"blue\", \"green\", \"orange\"]\n",
    "max_value = np.max(Y_test.flatten())\n",
    "min_value = np.min(Y_test.flatten())\n",
    "\n",
    "plt.style.use('seaborn')\n",
    "\n",
    "# Plotting the obtained results\n",
    "for i in range(np.shape(Y)[1]):\n",
    "  plotPredictions(Y_test[:,i], predictions[:,i], min_value, max_value, label=labels[i], color=colors[i])"
   ]
  }
 ],
 "metadata": {
  "interpreter": {
   "hash": "4bd624a0593993fe43ac4046b27b898fb2ef75c21c08f81e89e64ea0f51df676"
  },
  "kernelspec": {
   "display_name": "Python 3.9.12 ('tensorflow')",
   "language": "python",
   "name": "python3"
  },
  "language_info": {
   "codemirror_mode": {
    "name": "ipython",
    "version": 3
   },
   "file_extension": ".py",
   "mimetype": "text/x-python",
   "name": "python",
   "nbconvert_exporter": "python",
   "pygments_lexer": "ipython3",
   "version": "3.9.13"
  },
  "orig_nbformat": 4
 },
 "nbformat": 4,
 "nbformat_minor": 2
}
